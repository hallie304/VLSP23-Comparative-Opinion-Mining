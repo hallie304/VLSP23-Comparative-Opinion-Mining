{
 "cells": [
  {
   "cell_type": "code",
   "execution_count": 2,
   "id": "initial_id",
   "metadata": {
    "collapsed": true,
    "ExecuteTime": {
     "end_time": "2023-10-28T10:39:53.199819300Z",
     "start_time": "2023-10-28T10:39:53.198302800Z"
    }
   },
   "outputs": [],
   "source": [
    "import pandas as pd\n",
    "import os\n",
    "import ast\n",
    "import re\n",
    "import random\n",
    "import json"
   ]
  },
  {
   "cell_type": "code",
   "execution_count": 3,
   "outputs": [],
   "source": [
    "json_brands = 'Data/brands.json'\n",
    "brands = []\n",
    "with open(json_brands, 'r') as j:\n",
    "     brands_json = json.loads(j.read())['RECORDS']\n",
    "for i in range(len(brands_json)):\n",
    "    brands.append(brands_json[i]['name'])\n",
    "json_devices = 'Data/devices.json'\n",
    "devices = []\n",
    "with open(json_devices, 'r') as j:\n",
    "     devices_json = json.loads(j.read())['RECORDS']\n",
    "for i in range(len(devices_json)):\n",
    "    devices.append(devices_json[i]['name'])"
   ],
   "metadata": {
    "collapsed": false,
    "ExecuteTime": {
     "end_time": "2023-10-28T10:40:02.936143800Z",
     "start_time": "2023-10-28T10:40:02.747654400Z"
    }
   },
   "id": "d09a26eb474075cf"
  },
  {
   "cell_type": "code",
   "execution_count": 19,
   "outputs": [],
   "source": [
    "only_files = [f for f in os.listdir(\"VLSP23-Comparative-Opinion-Mining/data/relabledData\") if\n",
    "              os.path.isfile(os.path.join(\"VLSP23-Comparative-Opinion-Mining/data/relabledData\", f))]\n",
    "type_of_compare = [\"DIF\", \"EQL\", \"SUP+\", \"SUP-\", \"SUP\", \"COM+\", \"COM-\", \"COM\"]\n",
    "data_frame = {\"content\": [], \"comparative\": [], \"subject\": [], \"object\": [], \"aspect\": [], \"predicate\": [], \"label\": [], \"NER\": []}\n",
    "pred_label = dict()"
   ],
   "metadata": {
    "collapsed": false,
    "ExecuteTime": {
     "end_time": "2023-10-28T10:47:26.981466100Z",
     "start_time": "2023-10-28T10:47:26.972903400Z"
    }
   },
   "id": "9c3724cd531d133b"
  },
  {
   "cell_type": "code",
   "execution_count": 20,
   "outputs": [],
   "source": [
    "def preprocessing_with_BIO(filename):\n",
    "    data_row = []\n",
    "    labeled_row = dict()\n",
    "    data = []\n",
    "    with (open('Data/VLSP2023_ComOM_training_v2/VLSP2023_ComOM_training_v2/' + filename, 'r', encoding=\"utf-8\") as f):\n",
    "        row = f.readline()\n",
    "        while row != \"\":\n",
    "            split_row = row.split(\"\\t\")\n",
    "            if len(split_row) > 1:\n",
    "                r = split_row[1]\n",
    "            else:\n",
    "                r = row\n",
    "            r = r.replace(\"\\n\", \"\")\n",
    "            data_row.append(r)\n",
    "            row = f.readline()\n",
    "    f.close()\n",
    "    filename = filename[:-4]\n",
    "    del f\n",
    "    j = 0\n",
    "    for i in range(len(data_row) - 1, -1, -1):\n",
    "        if data_row[i] == \"\":\n",
    "            data_row.remove(data_row[i])\n",
    "    for i in range(len(data_row) - 1):\n",
    "        if re.match(\"^\\{\\\"subject\\\": \\[\", data_row[i + 1]) and re.match(\"^\\{\\\"subject\\\": \\[\", data_row[i]):\n",
    "            row = eval(data_row[i + 1])\n",
    "            labeled_row[data_row[j]].append(row)\n",
    "        elif re.match(\"^\\{\\\"subject\\\": \\[\", data_row[i + 1]):\n",
    "            j = i\n",
    "            row = eval(data_row[i + 1])\n",
    "            labeled_row[data_row[j]] = [row]\n",
    "    for i in data_row:\n",
    "        if re.match(\"^\\{\\\"subject\\\": \\[\", i) is None:\n",
    "            data.append(i)\n",
    "    del data_row\n",
    "    del j\n",
    "    del row\n",
    "    for i in data:\n",
    "        sentence_label = []\n",
    "        key = 0\n",
    "        subj = []\n",
    "        obj = []\n",
    "        asp = []\n",
    "        pred = []\n",
    "        lab = []\n",
    "        w = i.split(\" \")\n",
    "        label = [0 for k in range(len(w))]\n",
    "        if i in labeled_row.keys():\n",
    "            key = 1\n",
    "            for k in range(len(labeled_row.get(i))):\n",
    "                list_dct = labeled_row.get(i)\n",
    "                if type(list_dct[k][\"subject\"]) == str:\n",
    "                    continue\n",
    "                for j in list_dct[k].keys():\n",
    "                    arr = list_dct[k].get(j)\n",
    "                    consecutive = []\n",
    "                    if j == \"label\":\n",
    "                        continue\n",
    "                    for e in range(len(arr)):\n",
    "                        consecutive.append(int(arr[e][:arr[e].find(\"&\")]))\n",
    "                        arr[e] = re.sub(\"^[0-9]+&&\", \"\", arr[e])\n",
    "                    s = \" \".join(arr)\n",
    "                    list_dct[k][j] = s\n",
    "                    for q in range(len(consecutive)):\n",
    "                        if j == \"subject\":\n",
    "                            if q == 0:\n",
    "                                label[consecutive[q] - 1] = 1\n",
    "                            else:\n",
    "                                label[consecutive[q] - 1] = 2\n",
    "                        elif j == \"object\":\n",
    "                            if q == 0:\n",
    "                                label[consecutive[q] - 1] = 3\n",
    "                            else:\n",
    "                                label[consecutive[q] - 1] = 4\n",
    "                        elif j == \"aspect\":\n",
    "                            if q == 0:\n",
    "                                label[consecutive[q] - 1] = 5\n",
    "                            else:\n",
    "                                label[consecutive[q] - 1] = 6\n",
    "                        elif j == \"predicate\":\n",
    "                            if q == 0:\n",
    "                                label[consecutive[q] - 1] = 7\n",
    "                            else:\n",
    "                                label[consecutive[q] - 1] = 8\n",
    "                sentence_label.append(label)\n",
    "                subj.append(list_dct[k][\"subject\"])\n",
    "                obj.append(list_dct[k][\"object\"])\n",
    "                pred.append(list_dct[k][\"predicate\"])\n",
    "                asp.append(list_dct[k][\"aspect\"])\n",
    "                lab.append(type_of_compare.index(list_dct[k][\"label\"]) + 1)\n",
    "            if len(sentence_label) > 1:\n",
    "                full_label = []\n",
    "                l = 0\n",
    "                for n in range(len(sentence_label[0])):\n",
    "                    for j in range(len(sentence_label) - 1):\n",
    "                        if sentence_label[j][n] == sentence_label[j + 1][n]:\n",
    "                            l = sentence_label[j][n]\n",
    "                        elif sentence_label[j][n] != sentence_label[j + 1][n]:\n",
    "                            if sentence_label[j][n] == 0:\n",
    "                                l = sentence_label[j + 1][n]\n",
    "                            elif sentence_label[j + 1][n] == 0:\n",
    "                                l = sentence_label[j][n]\n",
    "                    full_label.append(l)\n",
    "                sentence_label = full_label\n",
    "                del full_label\n",
    "            else:\n",
    "                sentence_label = label\n",
    "        else:\n",
    "            sentence_label = label\n",
    "        data_frame[\"content\"].append(i)\n",
    "        data_frame[\"comparative\"].append(key)\n",
    "        data_frame[\"subject\"].append(subj)\n",
    "        data_frame[\"object\"].append(obj)\n",
    "        data_frame[\"predicate\"].append(pred)\n",
    "        data_frame[\"aspect\"].append(asp)\n",
    "        data_frame[\"label\"].append(lab)\n",
    "        data_frame[\"NER\"].append(sentence_label)\n",
    "        for j in range(len(pred)):\n",
    "            if pred[j] not in pred_label.keys():\n",
    "                pred_label[pred[j]] = [lab[j]]\n",
    "            elif pred[j] in pred_label.keys() and lab[j] not in pred_label[pred[j]]:\n",
    "                pred_label[pred[j]].append(lab[j])\n",
    "    return data_frame\n",
    "for i in only_files:\n",
    "    preprocessing_with_BIO(i)"
   ],
   "metadata": {
    "collapsed": false,
    "ExecuteTime": {
     "end_time": "2023-10-28T10:47:29.649563900Z",
     "start_time": "2023-10-28T10:47:29.474653100Z"
    }
   },
   "id": "cb6d746d9e38d529"
  },
  {
   "cell_type": "code",
   "execution_count": 21,
   "outputs": [
    {
     "data": {
      "text/plain": "                                             content  comparative  \\\n0  Title : Review iPhone 14 : Thiết kế , hiệu năn...            0   \n1  iPhone 14 được ra mắt vào 09 / 2022 , được đán...            1   \n2  Về ngoại hình thì cũng có rất ít sự khác biệt ...            1   \n3  Có một vài ý kiến trái chiều cho rằng , phiên ...            0   \n4  Thực tế khi mua hoặc nâng cấp một thiết bị di ...            0   \n\n                  subject                        object  \\\n0                      []                            []   \n1  [iPhone 14, iPhone 14]  [thế hệ trước, thế hệ trước]   \n2                      []           [thế hệ tiền nhiệm]   \n3                      []                            []   \n4                      []                            []   \n\n                  aspect                     predicate   label  \\\n0                     []                            []      []   \n1  [phần cứng, phần mềm]  [nâng cấp nhẹ, nâng cấp nhẹ]  [6, 6]   \n2           [ngoại hình]         [rất ít sự khác biệt]     [2]   \n3                     []                            []      []   \n4                     []                            []      []   \n\n                                                 NER  \n0      [0, 0, 0, 0, 0, 0, 0, 0, 0, 0, 0, 0, 0, 0, 0]  \n1  [1, 2, 0, 0, 0, 0, 0, 0, 0, 0, 0, 0, 0, 0, 0, ...  \n2  [0, 5, 6, 0, 0, 0, 7, 8, 8, 8, 8, 0, 0, 3, 4, ...  \n3  [0, 0, 0, 0, 0, 0, 0, 0, 0, 0, 0, 0, 0, 0, 0, ...  \n4  [0, 0, 0, 0, 0, 0, 0, 0, 0, 0, 0, 0, 0, 0, 0, ...  ",
      "text/html": "<div>\n<style scoped>\n    .dataframe tbody tr th:only-of-type {\n        vertical-align: middle;\n    }\n\n    .dataframe tbody tr th {\n        vertical-align: top;\n    }\n\n    .dataframe thead th {\n        text-align: right;\n    }\n</style>\n<table border=\"1\" class=\"dataframe\">\n  <thead>\n    <tr style=\"text-align: right;\">\n      <th></th>\n      <th>content</th>\n      <th>comparative</th>\n      <th>subject</th>\n      <th>object</th>\n      <th>aspect</th>\n      <th>predicate</th>\n      <th>label</th>\n      <th>NER</th>\n    </tr>\n  </thead>\n  <tbody>\n    <tr>\n      <th>0</th>\n      <td>Title : Review iPhone 14 : Thiết kế , hiệu năn...</td>\n      <td>0</td>\n      <td>[]</td>\n      <td>[]</td>\n      <td>[]</td>\n      <td>[]</td>\n      <td>[]</td>\n      <td>[0, 0, 0, 0, 0, 0, 0, 0, 0, 0, 0, 0, 0, 0, 0]</td>\n    </tr>\n    <tr>\n      <th>1</th>\n      <td>iPhone 14 được ra mắt vào 09 / 2022 , được đán...</td>\n      <td>1</td>\n      <td>[iPhone 14, iPhone 14]</td>\n      <td>[thế hệ trước, thế hệ trước]</td>\n      <td>[phần cứng, phần mềm]</td>\n      <td>[nâng cấp nhẹ, nâng cấp nhẹ]</td>\n      <td>[6, 6]</td>\n      <td>[1, 2, 0, 0, 0, 0, 0, 0, 0, 0, 0, 0, 0, 0, 0, ...</td>\n    </tr>\n    <tr>\n      <th>2</th>\n      <td>Về ngoại hình thì cũng có rất ít sự khác biệt ...</td>\n      <td>1</td>\n      <td>[]</td>\n      <td>[thế hệ tiền nhiệm]</td>\n      <td>[ngoại hình]</td>\n      <td>[rất ít sự khác biệt]</td>\n      <td>[2]</td>\n      <td>[0, 5, 6, 0, 0, 0, 7, 8, 8, 8, 8, 0, 0, 3, 4, ...</td>\n    </tr>\n    <tr>\n      <th>3</th>\n      <td>Có một vài ý kiến trái chiều cho rằng , phiên ...</td>\n      <td>0</td>\n      <td>[]</td>\n      <td>[]</td>\n      <td>[]</td>\n      <td>[]</td>\n      <td>[]</td>\n      <td>[0, 0, 0, 0, 0, 0, 0, 0, 0, 0, 0, 0, 0, 0, 0, ...</td>\n    </tr>\n    <tr>\n      <th>4</th>\n      <td>Thực tế khi mua hoặc nâng cấp một thiết bị di ...</td>\n      <td>0</td>\n      <td>[]</td>\n      <td>[]</td>\n      <td>[]</td>\n      <td>[]</td>\n      <td>[]</td>\n      <td>[0, 0, 0, 0, 0, 0, 0, 0, 0, 0, 0, 0, 0, 0, 0, ...</td>\n    </tr>\n  </tbody>\n</table>\n</div>"
     },
     "execution_count": 21,
     "metadata": {},
     "output_type": "execute_result"
    }
   ],
   "source": [
    "df_data = pd.DataFrame(data_frame)\n",
    "df_data.head()"
   ],
   "metadata": {
    "collapsed": false,
    "ExecuteTime": {
     "end_time": "2023-10-28T10:47:33.893670Z",
     "start_time": "2023-10-28T10:47:33.864429500Z"
    }
   },
   "id": "6deaf05550e2aded"
  },
  {
   "cell_type": "code",
   "execution_count": 24,
   "outputs": [],
   "source": [
    "random.seed(1)\n",
    "counter = 0\n",
    "stat = [0,0,0,0,0,0,0,0,0,0]\n",
    "vocab = {'subject':set(),'object':set(),'aspect':set(),'predicate':dict()}\n",
    "dct_split = {'content':[],'subject':[],'label':[],'object':[],'aspect':[],'predicate':[], 'NER':[]}\n",
    "lst = compared.to_dict(orient= \"list\")\n",
    "pred_stat = dict()\n",
    "overlap = dict()\n",
    "for i in range(len(lst['content'])):\n",
    "    subject = ast.literal_eval(lst['subject'][i])\n",
    "    labels = ast.literal_eval(lst['label'][i])\n",
    "    object = ast.literal_eval(lst['object'][i])\n",
    "    aspect = ast.literal_eval(lst['aspect'][i])\n",
    "    predicate = ast.literal_eval(lst['predicate'][i])\n",
    "    ner = ast.literal_eval(lst['NER'][i])\n",
    "    for j in range(len(labels)):\n",
    "        n_subject = ' '.join(subject[j].split('_'))\n",
    "        n_object = ' '.join(object[j].split('_'))\n",
    "        n_aspect = ' '.join(aspect[j].split('_'))\n",
    "        pred = ' '.join(predicate[j].split('_')).lower()\n",
    "        dct_split['content'].append(lst['content'][i])\n",
    "        dct_split['subject'].append(n_subject)\n",
    "        dct_split['object'].append(n_object)\n",
    "        dct_split['aspect'].append(n_aspect)\n",
    "        dct_split['predicate'].append(pred)\n",
    "        dct_split['label'].append(labels[j])\n",
    "        dct_split['NER'].append(ner)\n",
    "        vocab['subject'].add(n_subject)\n",
    "        vocab['object'].add(n_object)\n",
    "        vocab['aspect'].add(n_aspect)\n",
    "        stat[labels[j]] += 1\n",
    "        if pred in vocab['predicate'].keys() and labels[j] not in vocab['predicate'][pred]:\n",
    "            vocab['predicate'][pred].append(labels[j])\n",
    "        else:\n",
    "            vocab['predicate'][pred]=[labels[j]]\n",
    "        # Predicate statistics on labels\n",
    "        if pred in pred_stat.keys():\n",
    "            pred_stat[pred][labels[j]] += 1\n",
    "        else:\n",
    "            pred_stat[pred]=[0,0,0,0,0,0,0,0,0]\n",
    "            pred_stat[pred][labels[j]]+=1\n",
    "        # Overallping labels\n",
    "        if n_object in pred and n_object != '':\n",
    "            if pred in overlap.keys():\n",
    "                overlap[pred].append('ob_'+n_object)\n",
    "            else:\n",
    "                overlap[pred] = ['ob_'+n_object]\n",
    "        if n_subject in pred and n_subject != '':\n",
    "            if pred in overlap.keys():\n",
    "                overlap[pred].append('sub_'+n_subject)\n",
    "            else:\n",
    "                overlap[pred] = ['sub_'+n_subject]\n",
    "        if n_aspect in pred and n_aspect != '':\n",
    "            if pred in overlap.keys():\n",
    "                overlap[pred].append('asp_'+n_aspect)\n",
    "            else:\n",
    "                overlap[pred] = ['asp_'+n_aspect]\n",
    "df_splited = pd.DataFrame(data=dct_split)\n",
    "for i in brands:\n",
    "    vocab['subject'].add(i)\n",
    "    vocab['object'].add(i)\n",
    "for i in devices:\n",
    "    vocab['subject'].add(i)\n",
    "    vocab['object'].add(i)"
   ],
   "metadata": {
    "collapsed": false,
    "ExecuteTime": {
     "end_time": "2023-10-27T11:31:21.388241400Z",
     "start_time": "2023-10-27T11:31:21.220377500Z"
    }
   },
   "id": "a7edc6672521627"
  },
  {
   "cell_type": "code",
   "execution_count": 10,
   "outputs": [],
   "source": [
    "def finder(stg, finder):\n",
    "    split = stg.split()\n",
    "    start = -1\n",
    "    end = -1\n",
    "    for s in range(len(split)):\n",
    "        if split[s] in finder and start == -1 and end == -1:\n",
    "            start = s\n",
    "            end = s\n",
    "        elif split[s] in finder and start != -1 and end != -1:\n",
    "            end = s\n",
    "        elif split[s] not in finder and start != -1 and end != -1:\n",
    "            return start, end\n",
    "    return start, end"
   ],
   "metadata": {
    "collapsed": false,
    "ExecuteTime": {
     "end_time": "2023-10-26T11:28:32.820003400Z",
     "start_time": "2023-10-26T11:28:32.812218500Z"
    }
   },
   "id": "dd7230707c77913"
  },
  {
   "cell_type": "code",
   "execution_count": 11,
   "outputs": [],
   "source": [
    "data = {'content':[], 'NER':[], 'label':[]}\n",
    "generror = []\n",
    "for k in range(1,9):\n",
    "    df_comp = df_splited[df_splited['label'] == k]\n",
    "    others = df_comp[['subject','object','aspect','NER']]\n",
    "    content = df_comp.to_dict(orient='list')['content']\n",
    "    pred = df_comp.to_dict(orient='list')['predicate']\n",
    "    i = 0\n",
    "    count = 0\n",
    "    while count < 1000:\n",
    "        stg = content[i] \n",
    "        su = others.iloc[i]['subject']\n",
    "        ob = others.iloc[i]['object']\n",
    "        asp = others.iloc[i]['aspect']\n",
    "        pr = pred[i]\n",
    "        n = others.iloc[i]['NER']\n",
    "        if su != '' and su in stg:\n",
    "            f = su.split()\n",
    "            sub = random.choice(list(vocab['subject']))  \n",
    "            substitute = sub.split()\n",
    "            checkpoint = finder(stg,f)\n",
    "            stg = stg.replace(su, sub)\n",
    "            rep = [1]+[2 for p in range(len(substitute)-1)]\n",
    "            n = n[:checkpoint[0]]+rep+ n[checkpoint[1]+1:]\n",
    "            if len(stg.split()) != len(n):\n",
    "                generror.append(stg+','+n.__str__()+','+str(k)+','+su+','+sub+',sub,'+str(checkpoint))\n",
    "        if ob != '' and ob in stg:\n",
    "            f = ob.split()\n",
    "            obj = random.choice(list(vocab['object']))\n",
    "            substitute = obj.split()\n",
    "            checkpoint = finder(stg, f)\n",
    "            stg = stg.replace(ob, obj)\n",
    "            rep = [3]+[4 for p in range(len(substitute)-1)]\n",
    "            n = n[:checkpoint[0]]+rep+ n[checkpoint[1]+1:]\n",
    "            if len(stg.split()) != len(n):\n",
    "                generror.append(stg+','+n.__str__()+','+str(k)+','+ob+','+obj+',ob,'+str(checkpoint))\n",
    "        if asp != '' and asp in stg:\n",
    "            f = asp.split()\n",
    "            aspe = random.choice(list(vocab['aspect']))\n",
    "            substitute = aspe.split()\n",
    "            checkpoint = finder(stg,f)\n",
    "            stg = stg.replace(asp, aspe)\n",
    "            rep = [5]+[6 for p in range(len(substitute)-1)]\n",
    "            n = n[:checkpoint[0]]+rep+ n[checkpoint[1]+1:]\n",
    "            if len(stg.split()) != len(n):\n",
    "                generror.append(stg+','+n.__str__()+','+str(k)+','+asp+','+aspe+',asp,'+str(checkpoint))\n",
    "        if stg not in content:\n",
    "            data['content'].append(stg)\n",
    "            data['NER'].append(n)\n",
    "            data['label'].append(k)\n",
    "            count += 1\n",
    "        i += 1\n",
    "        if i == stat[k]:\n",
    "            i = 0"
   ],
   "metadata": {
    "collapsed": false,
    "ExecuteTime": {
     "end_time": "2023-10-26T11:28:37.383475300Z",
     "start_time": "2023-10-26T11:28:35.079480600Z"
    }
   },
   "id": "a28883d424c51d73"
  },
  {
   "cell_type": "markdown",
   "source": [
    "Khúc sau là statistic một xíu của data thì m muốn xem qua thì xem"
   ],
   "metadata": {
    "collapsed": false
   },
   "id": "2a8f5d6768a27be0"
  },
  {
   "cell_type": "code",
   "execution_count": 25,
   "outputs": [
    {
     "name": "stdout",
     "output_type": "stream",
     "text": [
      "{'hiếm có chiếc điện thoại nào trên thị trường có thể làm được': ['ob_chiếc điện thoại nào trên thị trường'], 'nhiều tính năng vượt trội hơn': ['asp_tính năng'], 'đều là những chiếc smartphone trang bị camera tốt nhất hiện nay': ['asp_camera'], 'tương đối tốt ở cả hai máy': ['ob_cả hai máy', 'sub_cả hai máy'], 'nâng cấp chất lượng pin hơn': ['asp_chất lượng pin'], 'nhiều chức năng thực dụng hơn': ['asp_chức năng thực dụng'], 'nhiều lợi ích hơn': ['asp_lợi ích'], 'sự chênh lệch về các thông số khác như camera cũng không đáng kể': ['asp_các thông số khác như camera'], 'dễ thao tác hơn': ['asp_thao tác'], 'sự khác biệt về hiệu suất thực tế là không đáng kể': ['asp_hiệu suất thực tế'], 'tốt nhất trong bộ ba điện thoại ngày hôm nay': ['ob_bộ ba điện thoại ngày hôm nay'], 'chiếm nhiều không gian lưu trữ hơn': ['asp_không gian lưu trữ'], 'nâng cao chi tiết ở những vùng tối hơn': ['asp_chi tiết ở những vùng tối'], 'không smartphone kiểu dáng thanh nào ngày nay có thể làm được': ['sub_smartphone kiểu dáng thanh'], 'không phải cấu hình khủng nhất năm nay': ['asp_cấu hình'], 'tốt hơn dự đoán rất nhiều': ['ob_dự đoán'], 'không có khả năng sạc nhanh vượt trội như': ['asp_khả năng sạc nhanh vượt trội'], 'nhiều nâng cấp và cải tiến hơn rất nhiều': ['asp_nâng cấp', 'asp_cải tiến'], 'ít gây lóa ống kính hơn': ['asp_gây lóa ống kính'], 'khó dán cường lực và phụ kiện hơn': ['asp_cường lực và phụ kiện'], 'đều bắt được chi tiết rất tốt': ['asp_chi tiết'], 'hiếm có chiếc smartphone nào đạt được tiêu chuẩn “ tràn viền ”': ['sub_smartphone', 'asp_tiêu chuẩn “ tràn viền ”'], 'không hề có một chiếc tai thỏ nào': ['asp_một chiếc tai thỏ'], 'không còn là cấu hình mạnh mẽ nhất trong thế giới smartphone nữa': ['asp_cấu hình'], 'khó tìm thấy một thiết bị di động có khả năng hoạt động tốt hơn': ['asp_khả năng hoạt động'], 'không thể làm tốt việc tách biệt chủ thể như': ['asp_tách biệt chủ thể'], 'phần nào được hưởng lợi về hiệu năng của chip hơn': ['asp_hiệu năng của chip'], 'nổi bật chủ thể trong các bức ảnh chụp chân dung hơn': ['asp_chủ thể trong các bức ảnh chụp chân'], 'đều đồng trọng lượng': ['asp_trọng lượng'], 'mang lại thời lượng sử dụng pin rất tốt nếu so sánh với': ['asp_thời lượng sử dụng pin']}\n"
     ]
    }
   ],
   "source": [
    "print(overlap)"
   ],
   "metadata": {
    "collapsed": false,
    "ExecuteTime": {
     "start_time": "2023-10-27T11:31:24.044190400Z"
    }
   },
   "id": "4b90323c4e639a9e"
  },
  {
   "cell_type": "code",
   "execution_count": 41,
   "outputs": [
    {
     "name": "stdout",
     "output_type": "stream",
     "text": [
      "[0, 58, 286, 106, 5, 4, 499, 107, 20, 0]\n"
     ]
    }
   ],
   "source": [
    "print(stat)"
   ],
   "metadata": {
    "collapsed": false,
    "ExecuteTime": {
     "start_time": "2023-10-27T12:06:53.469799900Z"
    }
   },
   "id": "97ca62856e79ffd3"
  },
  {
   "cell_type": "code",
   "execution_count": 40,
   "outputs": [
    {
     "name": "stdout",
     "output_type": "stream",
     "text": [
      "472\n",
      "127\n",
      "18\n",
      "5\n",
      "3\n",
      "1\n"
     ]
    }
   ],
   "source": [
    "counter = 0\n",
    "counter1 = 0\n",
    "counter2 = 0\n",
    "counter3 = 0\n",
    "counter4 = 0\n",
    "counter5 = 0\n",
    "for i in pred_stat:\n",
    "    if sum(pred_stat[i]) < 2:\n",
    "        counter += 1\n",
    "    if sum(pred_stat[i]) > 1 and sum(pred_stat[i]) < 5:\n",
    "        counter1 += 1\n",
    "    if sum(pred_stat[i]) > 4 and sum(pred_stat[i]) < 10:\n",
    "        counter2 += 1\n",
    "    if sum(pred_stat[i]) > 9 and sum(pred_stat[i]) < 20:\n",
    "        counter3 += 1\n",
    "    if sum(pred_stat[i]) > 19 and sum(pred_stat[i]) < 30:\n",
    "        counter4 += 1\n",
    "    if sum(pred_stat[i]) > 30:\n",
    "        counter5 += 1\n",
    "print(counter)  \n",
    "print(counter1)\n",
    "print(counter2)  \n",
    "print(counter3)\n",
    "print(counter4)\n",
    "print(counter5)"
   ],
   "metadata": {
    "collapsed": false,
    "ExecuteTime": {
     "start_time": "2023-10-27T11:48:57.581821900Z"
    }
   },
   "id": "9d060c6779cde75a"
  },
  {
   "cell_type": "code",
   "execution_count": 43,
   "outputs": [
    {
     "name": "stdout",
     "output_type": "stream",
     "text": [
      "giảm bớt [0, 0, 0, 0, 0, 0, 0, 0, 1]\n",
      "nhỏ gọn hơn [0, 0, 0, 0, 0, 0, 2, 0, 1]\n",
      "nặng hơn [0, 0, 0, 0, 0, 0, 1, 1, 1]\n",
      "rộng hơn [0, 0, 0, 0, 0, 0, 6, 0, 1]\n",
      "sáng hơn [0, 0, 0, 0, 0, 0, 3, 0, 2]\n",
      "nhỏ gọn hơn [0, 0, 0, 0, 0, 0, 0, 0, 1]\n",
      "lớn và nặng hơn [0, 0, 0, 0, 0, 0, 0, 0, 1]\n",
      "tối hơn [0, 0, 0, 0, 0, 0, 0, 0, 1]\n",
      "độc đáo hơn [0, 0, 0, 0, 0, 0, 0, 0, 1]\n",
      "hơn hẳn [0, 0, 0, 0, 0, 0, 4, 0, 1]\n",
      "to hơn [0, 0, 0, 0, 0, 0, 1, 0, 2]\n",
      "vuông vắn hơn [0, 0, 0, 0, 0, 0, 0, 0, 1]\n",
      "nông hơn trong một số bức ảnh [0, 0, 0, 0, 0, 0, 0, 0, 1]\n",
      "nhô lên hơi cao so với [0, 0, 0, 0, 0, 0, 0, 0, 1]\n",
      "nhỉnh hơn đôi chút [0, 0, 0, 0, 0, 0, 0, 0, 1]\n",
      "“ truyền thống ” hơn [0, 0, 0, 0, 0, 0, 0, 0, 1]\n",
      "ít cong hơn [0, 0, 0, 0, 0, 0, 0, 0, 1]\n",
      "điều chỉnh hơn nữa [0, 0, 0, 0, 0, 0, 0, 0, 1]\n"
     ]
    }
   ],
   "source": [
    "for i in pred_stat:\n",
    "    if pred_stat[i][8] > 0:\n",
    "        print(i,pred_stat[i])"
   ],
   "metadata": {
    "collapsed": false,
    "ExecuteTime": {
     "start_time": "2023-10-27T12:12:05.694610700Z"
    }
   },
   "id": "3139152d25ef605d"
  },
  {
   "cell_type": "code",
   "execution_count": 29,
   "outputs": [
    {
     "name": "stdout",
     "output_type": "stream",
     "text": [
      "{'sentence': 'iPhone 14 được ra mắt vào 09 / 2022 , được đánh giá là chỉ nâng cấp nhẹ về phần cứng cũng như phần mềm so với thế hệ trước .', 'label': [6, 6]}\n",
      "{'sentence': 'Nếu so sánh với một số chipset khác như Dimensity 9000 hay Snapdragon 8 Gen 1 thì có hơi thấp một chút .', 'label': [7, 7]}\n",
      "{'sentence': 'Số điểm này cao hơn rất nhiều so với Snapdragon 8 Gen 1 ( 3.578 điểm đa nhân và 1.238 điểm đơn nhân ) và Dimensity 9000 ( 4.207 điểm đa nhân và 1.264 điểm đơn nhân ) .', 'label': [6, 6]}\n",
      "{'sentence': 'Tuy nhiên camera siêu rộng và camera tele hầu như không nhận được nâng cấp nào về phần cứng , chính vì vậy trong điều kiện thiếu sáng bộ đôi camera này lộ rõ nhiều nhược điểm .', 'label': [2, 2]}\n",
      "{'sentence': 'Nhìn chung cả 2 chiếc điện thoại này không có sự khác biệt lớn về thiết kế và màu sắc .', 'label': [2, 2]}\n",
      "{'sentence': 'Còn với Samsung Galaxy A53 mặc dù có các hiệu năng và khả năng hiển thị thấp hơn nhưng vẫn đáp ứng đủ nhu cầu cho các bạn giống như Samsung Galaxy A73 .', 'label': [7, 7]}\n",
      "{'sentence': 'Về chất lượng hiển thị , so sánh iPhone XS và iPhone 11 thì iPhone XS có phần trội hơn .', 'label': [6, 6]}\n",
      "{'sentence': 'Độ phân giải được Apple tăng lên tới 1.200 nits với độ tương phản lên đến 2 triệu , điều đó có nghĩa là gấp đôi so với dòng iPhone X .', 'label': [6, 6]}\n",
      "{'sentence': 'Dòng điện thoại iPhone X và iPhone 11 đều trang bị cổng kết nối Lightning dùng để sạc pin và kết nối tai nghe .', 'label': [2, 2]}\n",
      "{'sentence': 'Rõ ràng , sẽ có một khoảng cách về tốc độ xử lý , khả năng đồ họa và khả năng tiết kiệm năng lượng giữa bộ đôi điện thoại .', 'label': [1, 1, 1]}\n",
      "{'sentence': 'Về thời lượng pin và thời gian sử dụng , điện thoại Galaxy S22 Ultra 5G có lợi thế hơn vì viên pin lơn , 500mAh .', 'label': [6, 6]}\n",
      "{'sentence': 'Như vậy , so về thông số và các chức năng , camera selfie Galaxy S22 Ultra 5G có thể nói là trên kèo .', 'label': [6, 6]}\n",
      "{'sentence': 'Từ cái nhìn tổng quan , rõ ràng Galaxy S22 Ultra 5G vượt trội hơn Z Fold 3 về mọi mặt : Hiệu năng , camera , dung lượng pin , công nghệ .', 'label': [6, 6, 6, 6]}\n",
      "{'sentence': 'Khả năng chụp ảnh trên camera Galaxy S23 Ultra được đánh giá chi tiết hơn so với các model tiền nhiệm và thậm chí là Galaxy S23 Plus .', 'label': [6, 6]}\n",
      "{'sentence': 'Cả hai điện thoại đều được hỗ trợ sạc nhanh có dây 45W và sạc không dây 15W .', 'label': [2, 2]}\n",
      "{'sentence': 'Chính vì vậy , trải nghiệm màn hình sẽ tương tự nhau , đều cho chi tiết rõ ràng , màu sắc ổn định .', 'label': [2, 2]}\n",
      "{'sentence': 'Thế nhưng , nếu so về khả năng chụp ảnh zoom thì iPhone 12 Pro lại tỏ ra thua thiệt khá nhiều khi máy chỉ hỗ trợ zoom quang 2x , trong khi đó Galaxy Note20 Ultra và Google Pixel 5 đều hỗ trợ zoom quang lên tới 5x .', 'label': [7, 7]}\n",
      "{'sentence': 'Chiếc điện thoại còn lại là Google Pixel 5 lại thể hiện khả năng chụp ảnh có phần yếu thế hơn Galaxy Note20 Ultra và iPhone 12 Pro kể cả trong điều kiện đủ sáng hoặc ánh sáng yếu .', 'label': [7, 7]}\n",
      "{'sentence': 'Cuối cùng , dù iPhone 12 Pro không phải là mẫu điện thoại có camera xuất sắc nhất hiện tại , thế nhưng rõ ràng là về mặt hiệu suất và tính ổn định thì đây chắc chắn là một trong những sản phẩm tốt số 1 trong thế giới smartphone hiện nay .', 'label': [3, 3]}\n",
      "{'sentence': 'Màu sắc ảnh chụp S20 Ultra chân thực hơn', 'label': [6, 6]}\n",
      "{'sentence': 'Cả hai điện thoại đều tích hợp các nút vật lý dễ bấm , đẹp mặt và xếp hạng chống nước và bụi IP68 .', 'label': [2, 2]}\n",
      "{'sentence': 'Đáng tiếc duy nhất là máy không có thiết kế camera nằm trong màn hình mà là thiết kế U-Infinity – đây là điều khiến điện thoại Samsung này có mặt trước trông hơi “ giá rẻ ” so với các điện thoại khác trong phân khúc như Xiaomi Redmi Note 12 chẳng hạn .', 'label': [7, 7]}\n",
      "{'sentence': 'Với giá bán từ 6 triệu đồng trên thị trường hiện nay cùng với loạt các trang bị ấn tượng chúng tôi đề cập trên đâ thì Galaxy A24 không chỉ mang tới smartphone có bề ngoài thời thượng , mà khả năng chụp hình , cấu hình lẫn màn hình đều thuộc hàng tốt nhất , đáp ứng nhu cầu sử dụng của người dùng phổ thông .', 'label': [3, 3, 3]}\n",
      "{'sentence': 'Google gần đây vừa chính thức ra mắt điện thoại Pixel 7 Pro mới , dòng máy này sở hữu nhiều thông số kỹ thuật tuyệt vời về phần cứng cũng như màn hình , hệ thống camera tốt nhất từ trước đến nay .', 'label': [3, 3, 3]}\n",
      "{'sentence': 'Galaxy S23 Ultra và điện thoại màn hình gập Galaxy Z Fold 4 đều là những model hàng đầu của Samsung ở thời điểm hiện tại .', 'label': [3, 3]}\n",
      "{'sentence': 'Điều này cũng có nghĩa Galaxy A32 sẽ hơn hẳn camera của OPPO A74 từ các độ sắc nét cho đến các góc chụp .', 'label': [6, 6]}\n",
      "{'sentence': '\" Samsung Galaxy S21 Ultra và iPhone 12 Pro Max hiện đang là hai sản phẩm đang hot nhất hiện nay nằm trong phân khúc smartphone cao cấp .', 'label': [3, 3]}\n",
      "{'sentence': 'Thiết kế và kích thước màn hình là những điểm khác biệt dễ nhận thấy nhất trên iPhone 13 Pro Max và Samsung Z Fold 4 .', 'label': [1, 1]}\n",
      "{'sentence': 'Cạnh bên phải chứa nút nguồn cùng với phím tăng giảm âm lượng , chúng hơi dịch lên phía trên một chút so với các mẫu điện thoại khác .', 'label': [1, 1]}\n",
      "{'sentence': 'Phần cứng camera tương đương nhưng macro cùng selfie có độ phân giải thấp hơn .', 'label': [7, 7]}\n",
      "{'sentence': 'iPhone 13 Pro và iPhone 13 Pro Max là một trong những điện thoại sở hữu camera tốt nhất hiện nay .', 'label': [3, 3]}\n",
      "{'sentence': 'Mặc dù bạn không có cách nào để biết khi nào Deep Fusion được kích hoạt , nhưng iPhone SE 2022 có thể tạo ra hình ảnh gần giống với iPhone 13 Pro về độ sắc nét và chi tiết khi chụp ảnh trong điều kiện ánh sáng trung bình ( hoặc trong nhà ) .', 'label': [2, 2]}\n",
      "{'sentence': 'Samsung Galaxy Z Fold2 – mẫu điện thoại màn hình gập thế hệ mới của Samsung , mang tới nhiều nâng cấp và cải tiến hơn rất nhiều so với người tiền nhiệm Galaxy Fold .', 'label': [6, 6]}\n",
      "{'sentence': 'Theo công bố của Samsung , biến thể “ for Galaxy ” sẽ có sự thay đổi ở CPU và GPU , tuy nhiên hãng không nêu cụ thể sự khác biệt .', 'label': [1, 1]}\n",
      "{'sentence': 'Có thể thấy Galaxy Note 20 Ultra mang nhiều cải tiến vượt trội từ thiết kế , màn hình , camera lẫn hiệu năng .', 'label': [6, 6, 6, 6]}\n",
      "{'sentence': 'Tuy nhiên , cả hai điện thoại đều cung cấp các thông số kỹ thuật sạc giống nhau bao gồm sạc có dây 25W , sạc không dây 10W và sạc không dây ngược 4,5W .', 'label': [2, 2, 2, 2]}\n",
      "{'sentence': 'Hầu hết người dùng sẽ khá hài lòng với S21 Ultra vì hiệu suất và sức mạnh chụp ảnh cao nhất .', 'label': [3, 3]}\n",
      "{'sentence': 'Các pixel bổ sung hoặc các kỹ thuật tính toán hiệu quả đều nghiêng về lợi thế của Samsung .', 'label': [6, 6]}\n",
      "{'sentence': 'Các thông số kỹ thuật còn lại như bộ vi xử lý , cụm camera , thiết kế vuông vức lấy cảm hứng từ iPhone 4 thì gần như là giống hệt .', 'label': [2, 2, 2]}\n",
      "{'sentence': 'Không sở hữu sự tương đồng về mặt cấu hình như bộ đôi iPhone 12 Mini và iPhone 12 , Apple đã lợi dụng không gian lớn bên trong phiên bản Pro Max để trang bị cho mẫu smartphone này hệ thống camera chất lượng hơn .', 'label': [6, 6]}\n",
      "{'sentence': 'Không sở hữu sự tương đồng về mặt cấu hình như bộ đôi iPhone 12 Mini và iPhone 12 , Apple đã lợi dụng không gian lớn bên trong phiên bản Pro Max để trang bị cho mẫu smartphone này hệ thống camera chất lượng hơn .', 'label': [1, 1]}\n",
      "{'sentence': 'Thậm chí trong tầm giá dưới 12 triệu , đây chắc chắn sẽ là nhà vô địch về nhiều mặt như hiển thị , thiết kế và camera .', 'label': [3, 3, 3]}\n",
      "{'sentence': 'So với những sản phẩm cùng phân khúc giá , khó có chiếc điện thoại nào có thể đọ được với Galaxy S10 Plus về mặt thẩm mỹ và mức độ hoàn thiện .', 'label': [7, 7]}\n",
      "{'sentence': 'Galaxy Z Fold3 được trang bị con chip mạnh nhất 2021 của Qualcomm – Snapdragon 888 .', 'label': [3, 3]}\n",
      "{'sentence': 'iPhone 14 và iPhone 14 Plus là sự thừa hưởng thiết kế của iPhone 13 năm trước .', 'label': [2, 2]}\n",
      "{'sentence': 'Galaxy A11 đã được trang bị cổng sạc USB type C , nó cho phép tốc độ sạc và truyền dữ liệu nhanh hơn nhiều so với micro-USB trước đây .', 'label': [6, 6]}\n",
      "{'sentence': 'Tất nhiệt nó “ nhạt nhòa ” hơn so với màn hình IPS và OLED khá nhiều .', 'label': [7, 7]}\n",
      "{'sentence': 'Khi mở ra , cả Galaxy Z Flip 4 và Find N2 Flip trông giống như những chiếc điện thoại bình thường với màn hình phụ ở phía sau , nhưng khi gập lại thì bạn sẽ có những thiết bị cực kỳ nhỏ gọn , dễ dàng cầm nắm bằng một tay .', 'label': [2, 2]}\n",
      "{'sentence': 'Con số 6,5 giờ on-screen trên Galaxy S23 Ultra là không tệ một chút nào , tuy nhiên vẫn thua thiệt khi so sánh với 7,5 giờ on-screen trên Xiaomi 13 Ultra và 8 giờ trên OPPO Find X6 Pro .', 'label': [7, 7]}\n",
      "{'sentence': 'Cả Xiaomi , Samsung và OPPO đều sở hữu thông số màn hình cao cấp nhất với tấm nền AMOLED kích thước lớn , tần số quét 120Hz và độ phân giải 2K .', 'label': [3, 3, 3]}\n",
      "{'sentence': 'Đối với Samsung Galaxy S21 FE cũng có thiết kế nguyên khối , khung và mặt lưng làm từ nhựa .', 'label': [2, 2]}\n",
      "{'sentence': 'Cả Samsung Galaxy A73 và S21 FE đều là những chiếc điện thoại hỗ trợ đầy đủ các tính năng và thực hiện tốt các tác vụ hằng ngày .', 'label': [2, 2]}\n"
     ]
    }
   ],
   "source": [
    "prev_pred = dict() \n",
    "for i in range(len(df_splited)):\n",
    "    if df_splited['predicate'].iloc[i] not in prev_pred.keys():\n",
    "        prev_pred[df_splited['predicate'].iloc[i]] = {'sentence':df_splited['content'].iloc[i],'label':[df_splited['label'].iloc[i]]}\n",
    "    elif df_splited['predicate'].iloc[i] in prev_pred.keys():\n",
    "        if prev_pred[df_splited['predicate'].iloc[i]]['sentence'] == df_splited['content'].iloc[i] :\n",
    "            prev_pred[df_splited['predicate'].iloc[i]]['label'].append(df_splited['label'].iloc[i])\n",
    "for i in prev_pred:\n",
    "    if len(prev_pred[i]['label'])  > 1:\n",
    "        print(prev_pred[i])"
   ],
   "metadata": {
    "collapsed": false,
    "ExecuteTime": {
     "start_time": "2023-10-26T12:51:27.763265600Z"
    }
   },
   "id": "2f60365313785d05"
  },
  {
   "cell_type": "code",
   "execution_count": 33,
   "outputs": [
    {
     "name": "stdout",
     "output_type": "stream",
     "text": [
      "['tốt nhất', 'cao nhất', 'khá nhất', 'lớn nhất', 'rẻ nhất', 'nhiều nhất', 'thấp nhất', 'nặng nhất', 'rộng nhất', 'nhỏ nhất', 'lâu nhất', 'lớn nhất', 'tốt nhất', 'thấp nhất', 'mát nhất', 'ấm nhất', 'sáng nhất', 'tối nhất', 'kém nhất', 'nhất', 'nhẹ nhất', 'mới nhất', 'sáng nhất', 'nhanh nhất', 'nhất hẳn', 'to nhất', 'nhỉnh nhất', 'mỏng nhất', 'chậm nhất', 'yếu nhất', 'đẹp nhất', 'rõ nhất', 'dài nhất', 'mạnh nhất', 'ít nhất']\n"
     ]
    }
   ],
   "source": [
    "new_pred = []\n",
    "for i in vocab['predicate']:\n",
    "    if len(i.split()) < 3 and 'hơn' in i:\n",
    "        new_pred.append(i.replace(\"hơn\",'nhất'))\n",
    "print(new_pred)"
   ],
   "metadata": {
    "collapsed": false,
    "ExecuteTime": {
     "start_time": "2023-10-27T11:42:29.608442600Z"
    }
   },
   "id": "dd060834c56dc5ab"
  },
  {
   "cell_type": "code",
   "execution_count": 12,
   "outputs": [],
   "source": [
    "for i in range(len(data['content'])-1,-1,-1):\n",
    "    if len(data['content'][i].split()) != len(data['NER'][i]):\n",
    "        data['content'].pop(i)\n",
    "        data['NER'].pop(i)\n",
    "        data['label'].pop(i)"
   ],
   "metadata": {
    "collapsed": false,
    "ExecuteTime": {
     "end_time": "2023-10-26T11:28:39.717476800Z",
     "start_time": "2023-10-26T11:28:39.685816600Z"
    }
   },
   "id": "71392695f9763a9d"
  },
  {
   "cell_type": "code",
   "execution_count": 13,
   "outputs": [
    {
     "name": "stdout",
     "output_type": "stream",
     "text": [
      "[0, 788, 841, 828, 607, 808, 809, 824, 893]\n",
      "[0, 58, 286, 106, 5, 4, 499, 107, 20, 0]\n"
     ]
    }
   ],
   "source": [
    "counter = [0,0,0,0,0,0,0,0,0]\n",
    "count = 0\n",
    "for i in range(len(data['content'])):\n",
    "    counter[data['label'][i]] += 1\n",
    "print(counter)\n",
    "print(stat)"
   ],
   "metadata": {
    "collapsed": false,
    "ExecuteTime": {
     "end_time": "2023-10-26T11:28:42.325211Z",
     "start_time": "2023-10-26T11:28:42.306601Z"
    }
   },
   "id": "b0cbe351436b45a3"
  },
  {
   "cell_type": "code",
   "execution_count": 14,
   "outputs": [],
   "source": [
    "\n",
    "df_prev = pd.read_csv('Data/total.csv',encoding='utf-8')\n",
    "dct_prev = df_prev[df_prev['comparative'] == 1].to_dict(orient='list')\n",
    "counter = 0\n",
    "dct_total = {'content':dct_split['content'],'NER':dct_split['NER'],'label':dct_split['label']}\n",
    "for i in range(len(data['content'])):\n",
    "    if stat[data['label'][i]] > 600:\n",
    "        continue\n",
    "    dct_total['content'].append(data['content'][i])\n",
    "    dct_total['NER'].append(data['NER'][i])\n",
    "    dct_total['label'].append(data['label'][i])\n",
    "    stat[data['label'][i]]+=1\n"
   ],
   "metadata": {
    "collapsed": false,
    "ExecuteTime": {
     "end_time": "2023-10-26T11:29:01.412356Z",
     "start_time": "2023-10-26T11:29:01.381183700Z"
    }
   },
   "id": "eb1c6fe5a1bf7883"
  },
  {
   "cell_type": "code",
   "execution_count": 15,
   "outputs": [],
   "source": [
    "df_generate = pd.DataFrame(data=dct_total)\n",
    "df_shuffled = df_generate.sample(len(df_generate), random_state=1)\n",
    "df_shuffled.to_csv('Data/combined_BIO.csv')"
   ],
   "metadata": {
    "collapsed": false,
    "ExecuteTime": {
     "end_time": "2023-10-26T11:29:03.277848900Z",
     "start_time": "2023-10-26T11:29:03.237469400Z"
    }
   },
   "id": "9c21b6f6f6a02871"
  },
  {
   "cell_type": "code",
   "execution_count": 37,
   "outputs": [],
   "source": [
    "import csv  \n",
    "# name of csv file  \n",
    "rows = []\n",
    "filename = \"combined.csv\"\n",
    "with open(filename, 'w', encoding=\"utf-8\") as csvfile:  \n",
    "    csvwriter = csv.writer(csvfile)  \n",
    "    csvwriter.writerow([\"Content\",\"NER\",\"Label\"])  \n",
    "    for i in range(len(dct_total['content'])):\n",
    "        row = [dct_total['content'][i]]\n",
    "        row.append(dct_total['NER'][i])\n",
    "        row.append(dct_total['label'][i])\n",
    "        rows.append(row)\n",
    "    csvwriter.writerows(rows) "
   ],
   "metadata": {
    "collapsed": false,
    "ExecuteTime": {
     "end_time": "2023-10-25T13:10:25.386829Z",
     "start_time": "2023-10-25T13:10:24.817838Z"
    }
   },
   "id": "5191d907e6463180"
  },
  {
   "cell_type": "code",
   "execution_count": 39,
   "outputs": [
    {
     "data": {
      "text/plain": "                                             Content  \\\n0  iPhone 14 được ra mắt vào 09 / 2022 , được đán...   \n1  Về ngoại hình thì cũng có rất ít sự khác biệt ...   \n2  Nhìn chung , về thiết kế của iPhone 14 thì khô...   \n3  Tương tự , thì hệ thống camera vẫn giữ nguyên ...   \n4  So với iPhone 13 , thì rất khó để nhận ra sự k...   \n\n                                                 NER   Label  \n0  [1, 1, 0, 0, 0, 0, 0, 0, 0, 0, 0, 0, 0, 0, 0, ...  [6, 6]  \n1  [0, 3, 3, 0, 0, 0, 4, 4, 4, 4, 4, 0, 0, 2, 2, ...     [2]  \n2  [0, 0, 0, 0, 3, 3, 0, 1, 1, 0, 4, 4, 4, 4, 4, ...     [2]  \n3  [0, 0, 0, 0, 1, 1, 1, 0, 4, 4, 3, 3, 0, 0, 0, ...     [2]  \n4  [0, 0, 0, 0, 0, 0, 0, 4, 4, 4, 4, 4, 4, 4, 0, ...  [2, 2]  ",
      "text/html": "<div>\n<style scoped>\n    .dataframe tbody tr th:only-of-type {\n        vertical-align: middle;\n    }\n\n    .dataframe tbody tr th {\n        vertical-align: top;\n    }\n\n    .dataframe thead th {\n        text-align: right;\n    }\n</style>\n<table border=\"1\" class=\"dataframe\">\n  <thead>\n    <tr style=\"text-align: right;\">\n      <th></th>\n      <th>Content</th>\n      <th>NER</th>\n      <th>Label</th>\n    </tr>\n  </thead>\n  <tbody>\n    <tr>\n      <th>0</th>\n      <td>iPhone 14 được ra mắt vào 09 / 2022 , được đán...</td>\n      <td>[1, 1, 0, 0, 0, 0, 0, 0, 0, 0, 0, 0, 0, 0, 0, ...</td>\n      <td>[6, 6]</td>\n    </tr>\n    <tr>\n      <th>1</th>\n      <td>Về ngoại hình thì cũng có rất ít sự khác biệt ...</td>\n      <td>[0, 3, 3, 0, 0, 0, 4, 4, 4, 4, 4, 0, 0, 2, 2, ...</td>\n      <td>[2]</td>\n    </tr>\n    <tr>\n      <th>2</th>\n      <td>Nhìn chung , về thiết kế của iPhone 14 thì khô...</td>\n      <td>[0, 0, 0, 0, 3, 3, 0, 1, 1, 0, 4, 4, 4, 4, 4, ...</td>\n      <td>[2]</td>\n    </tr>\n    <tr>\n      <th>3</th>\n      <td>Tương tự , thì hệ thống camera vẫn giữ nguyên ...</td>\n      <td>[0, 0, 0, 0, 1, 1, 1, 0, 4, 4, 3, 3, 0, 0, 0, ...</td>\n      <td>[2]</td>\n    </tr>\n    <tr>\n      <th>4</th>\n      <td>So với iPhone 13 , thì rất khó để nhận ra sự k...</td>\n      <td>[0, 0, 0, 0, 0, 0, 0, 4, 4, 4, 4, 4, 4, 4, 0, ...</td>\n      <td>[2, 2]</td>\n    </tr>\n  </tbody>\n</table>\n</div>"
     },
     "execution_count": 39,
     "metadata": {},
     "output_type": "execute_result"
    }
   ],
   "source": [
    "d = pd.read_csv('combined.csv',encoding='utf-8')\n",
    "d.head()"
   ],
   "metadata": {
    "collapsed": false,
    "ExecuteTime": {
     "end_time": "2023-10-25T13:13:14.144902200Z",
     "start_time": "2023-10-25T13:13:13.929553100Z"
    }
   },
   "id": "1394280e9eead12a"
  }
 ],
 "metadata": {
  "kernelspec": {
   "display_name": "Python 3",
   "language": "python",
   "name": "python3"
  },
  "language_info": {
   "codemirror_mode": {
    "name": "ipython",
    "version": 2
   },
   "file_extension": ".py",
   "mimetype": "text/x-python",
   "name": "python",
   "nbconvert_exporter": "python",
   "pygments_lexer": "ipython2",
   "version": "2.7.6"
  }
 },
 "nbformat": 4,
 "nbformat_minor": 5
}

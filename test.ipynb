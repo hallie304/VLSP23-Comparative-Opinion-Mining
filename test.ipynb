{
 "cells": [
  {
   "cell_type": "code",
   "execution_count": null,
   "outputs": [],
   "source": [
    "# %cd Tan0310\n",
    "# %pip install pandas\n",
    "# \n",
    "# !git clone --single-branch --branch fast_tokenizers_BARTpho_PhoBERT_BERTweet https://github.com/datquocnguyen/transformers.git\n",
    "# %cd transformers\n",
    "# %pip install -e .\n",
    "# \n",
    "# %pip install evaluate\n",
    "# %pip install py_vncorenlp\n",
    "# # %pip install underthesea[deep]\n",
    "# # %pip install underthesea\n",
    "# # % pip install seqeval\n",
    "# # % pip install accelerate"
   ],
   "metadata": {
    "collapsed": false,
    "is_executing": true
   }
  },
  {
   "cell_type": "markdown",
   "source": [
    "# Libs + Packages"
   ],
   "metadata": {
    "collapsed": false
   }
  },
  {
   "cell_type": "code",
   "execution_count": null,
   "outputs": [],
   "source": [
    "import ast\n",
    "\n",
    "import numpy as np\n",
    "import pandas as pd\n",
    "import torch.utils.data\n",
    "import os\n",
    "\n",
    "\n",
    "print(torch.cuda.is_available())\n",
    "print(torch.cuda.device_count())\n",
    "# print(torch.cuda.get_device_name(0))\n",
    "# os.chdir('/home/group2/Tan0310')\n",
    "\n",
    "# from libsAndPackages import *\n",
    "# from modelUtils import *\n",
    "from dataUtils import *"
   ],
   "metadata": {
    "collapsed": false,
    "is_executing": true
   }
  },
  {
   "cell_type": "markdown",
   "source": [
    "# Test"
   ],
   "metadata": {
    "collapsed": false
   }
  },
  {
   "cell_type": "code",
   "execution_count": null,
   "outputs": [],
   "source": [
    "dataCSV = txt2csv(path = \"//datasets//modified//VLSP2023_ComOM_training//VLSP2023_ComOM_training\",\n",
    "        curDir = curDir)\n",
    "dataCSVIsComparative, dataCSVNotIsComparative = createDataNERCSV(dataCSV)\n",
    "datasetNERTokenizedCSV = tokenizeAndProcess(dataCSVIsComparative, dataCSVNotIsComparative)\n",
    "nerPhoBERTTorchDataset = DataNERPhoBERTTorch(datasetNERTokenizedCSV)"
   ],
   "metadata": {
    "collapsed": false,
    "is_executing": true
   }
  },
  {
   "cell_type": "code",
   "execution_count": null,
   "outputs": [],
   "source": [
    "# dataNER = pd.read_csv(curDir + \"//datasets//modified//preprocessed//VLSP23_NER.csv\", index_col = \"Unnamed: 0\")\n",
    "# \n",
    "# dropInd = []\n",
    "# for i in range(len(dataNER)):\n",
    "#     dataNER.at[i, 'labelNER'] = ast.literal_eval(dataNER.at[i, 'labelNER'])\n",
    "#     if (len(set(dataNER.iloc[i]['labelNER'])) == 1):\n",
    "#         dropInd.append(i)\n",
    "# dataNER = dataNER.drop(dropInd)\n",
    "#         \n",
    "# dataNER"
   ],
   "metadata": {
    "collapsed": false,
    "is_executing": true
   }
  },
  {
   "cell_type": "code",
   "execution_count": null,
   "outputs": [],
   "source": [
    "# sentenceTokenized = tokenize_and_align_labels(dataNER)"
   ],
   "metadata": {
    "collapsed": false,
    "is_executing": true
   }
  },
  {
   "cell_type": "code",
   "execution_count": null,
   "outputs": [],
   "source": [
    "# sentenceTokenizedDict = dict(sentenceTokenized)\n",
    "# dataNERTokenized = pd.DataFrame(sentenceTokenizedDict)\n",
    "# dataNERTokenized.to_csv(r\"C:\\Users\\nguye\\Downloads\\VLSP23_dataNERPhoBERTTokenized.csv\")"
   ],
   "metadata": {
    "collapsed": false,
    "is_executing": true
   }
  },
  {
   "cell_type": "code",
   "execution_count": null,
   "outputs": [],
   "source": [
    "# nerPhoBERTTorchDataset = DataNERPhoBERTTorch(curDir + '//datasets//modified//preprocessed//VLSP23_dataNERPhoBERTTokenized.csv')"
   ],
   "metadata": {
    "collapsed": false,
    "is_executing": true
   }
  },
  {
   "cell_type": "code",
   "execution_count": null,
   "outputs": [],
   "source": [
    "num_epochs = 10\n",
    "batchSize = 2\n",
    "trainLoader, valLoader, testLoader = splitDataset(nerPhoBERTTorchDataset, 0.95, 0.05, 0, batchSize, True, 14)"
   ],
   "metadata": {
    "collapsed": false,
    "is_executing": true
   }
  },
  {
   "cell_type": "code",
   "execution_count": null,
   "outputs": [],
   "source": [
    "optimizer = AdamW(phobertTokenClassification.parameters(), lr = 5e-5)\n",
    "\n",
    "num_training_steps = num_epochs * len(trainLoader)\n",
    "lr_scheduler = get_scheduler(\n",
    "    name = \"linear\", optimizer = optimizer, num_warmup_steps = 0, num_training_steps = num_training_steps\n",
    ")"
   ],
   "metadata": {
    "collapsed": false,
    "is_executing": true
   }
  },
  {
   "cell_type": "code",
   "execution_count": null,
   "outputs": [],
   "source": [
    "train(phobertTokenClassification, num_epochs, trainLoader, valLoader, optimizer, device, lr_scheduler = lr_scheduler)"
   ],
   "metadata": {
    "collapsed": false,
    "is_executing": true
   }
  }
 ],
 "metadata": {
  "kernelspec": {
   "display_name": "Python 3",
   "language": "python",
   "name": "python3"
  },
  "language_info": {
   "codemirror_mode": {
    "name": "ipython",
    "version": 3
   },
   "file_extension": ".py",
   "mimetype": "text/x-python",
   "name": "python",
   "nbconvert_exporter": "python",
   "pygments_lexer": "ipython3",
   "version": "3.10.0"
  },
  "orig_nbformat": 4
 },
 "nbformat": 4,
 "nbformat_minor": 2
}

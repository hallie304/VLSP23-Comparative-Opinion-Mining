{
 "cells": [
  {
   "cell_type": "code",
   "execution_count": 1,
   "outputs": [
    {
     "name": "stdout",
     "output_type": "stream",
     "text": [
      "Current directory: /home/group2/naTtahN_T1/VLSP23-Comparative-Opinion-Mining/baseline/naTtahN_PhoBERT\n",
      "2023-10-18 16:44:18 INFO  WordSegmenter:24 - Loading Word Segmentation model\n"
     ]
    },
    {
     "name": "stderr",
     "output_type": "stream",
     "text": [
      "Some weights of RobertaForTokenClassification were not initialized from the model checkpoint at vinai/phobert-base and are newly initialized: ['classifier.bias', 'classifier.weight']\n",
      "You should probably TRAIN this model on a down-stream task to be able to use it for predictions and inference.\n"
     ]
    },
    {
     "name": "stdout",
     "output_type": "stream",
     "text": [
      "Using device: cuda\n"
     ]
    }
   ],
   "source": [
    "# %cd\n",
    "# %cd naTtahN_T1\n",
    "# %cd VLSP23-Comparative-Opinion-Mining\n",
    "# %cd\n",
    "# \n",
    "# !git clone --single-branch --branch fast_tokenizers_BARTpho_PhoBERT_BERTweet https://github.com/datquocnguyen/transformers.git\n",
    "# %cd transformers\n",
    "# %pip install -e .\n",
    "# \n",
    "# %pip install pandas\n",
    "# %pip install evaluate\n",
    "# %pip install py_vncorenlp\n",
    "# # %pip install underthesea[deep]\n",
    "# # %pip install underthesea\n",
    "# %pip install seqeval\n",
    "# %pip install accelerate\n",
    "# %pip install matplotlib\n",
    "\n",
    "import ast\n",
    "\n",
    "import numpy as np\n",
    "import pandas as pd\n",
    "import torch.utils.data\n",
    "import os\n",
    "\n",
    "# print(torch.cuda.is_available())\n",
    "# print(torch.cuda.device_count())\n",
    "# print(torch.cuda.get_device_name(0))\n",
    "# os.chdir('/home/group2/naTtahN_T1/VLSP23_Task1')\n",
    "\n",
    "# from libsAndPackages import *\n",
    "# from modelUtils import *\n",
    "from utilsFunc.dataUtils import *\n",
    "os.chdir(curDir)\n",
    "\n",
    "dataCSV = txt2csv(path = \"/datasets/original/VLSP2023_ComOM_public_test_nolabel/VLSP2023_ComOM_public_test_nolabel\",\n",
    "                  curDir = curDir, splitName = 'dev', version = 'new', idx = range(1, 25, 1))\n",
    "dataCSVIsComparative, dataCSVNotIsComparative, sentenceIndCDNC = createDataNERCSV(dataCSV, mode = 'inference')\n",
    "datasetNERTokenizedCSV, wordIndTAP = tokenizeAndProcess(dataCSVIsComparative, dataCSVNotIsComparative, mode = 'inference')\n",
    "nerPhoBERTTorchDataset = DataNERPhoBERTTorch(datasetNERTokenizedCSV)\n",
    "\n",
    "batchSize = 64\n",
    "inferenceLoader, _, _ = splitDataset(nerPhoBERTTorchDataset, 1.0, 0.0, 0.0,\n",
    "                                                 batchSize, False, 14)"
   ],
   "metadata": {
    "collapsed": false,
    "ExecuteTime": {
     "end_time": "2023-10-18T09:44:25.081956Z",
     "start_time": "2023-10-18T09:44:14.896714900Z"
    }
   }
  },
  {
   "cell_type": "code",
   "execution_count": 2,
   "outputs": [],
   "source": [
    "loadModel(phobertTokenClassification, 'phobertFinetuned.pt')\n",
    "\n",
    "(allPredIsComparative, allPredNER, allPredComparisonType) = getInferencePredictions(phobertTokenClassification, inferenceLoader, device)\n",
    "\n",
    "(allPredIsComparative, allPredNER, allPredComparisonType) = filterPredictions(nerPhoBERTTorchDataset, allPredIsComparative, allPredNER, allPredComparisonType)"
   ],
   "metadata": {
    "collapsed": false,
    "ExecuteTime": {
     "end_time": "2023-10-18T09:44:33.237655200Z",
     "start_time": "2023-10-18T09:44:25.083475700Z"
    }
   }
  },
  {
   "cell_type": "code",
   "execution_count": 3,
   "outputs": [],
   "source": [
    "postProcessNER = postProcessNERPredictions(allPredNER, allPredIsComparative, wordIndTAP)\n",
    "\n",
    "segmentedOriginalSentence = deepcopy(dataCSVNotIsComparative['Input sentence segmented'])"
   ],
   "metadata": {
    "collapsed": false,
    "ExecuteTime": {
     "end_time": "2023-10-18T09:44:33.618711200Z",
     "start_time": "2023-10-18T09:44:33.240651Z"
    }
   }
  },
  {
   "cell_type": "code",
   "execution_count": 4,
   "outputs": [],
   "source": [
    "outputNER = getOutputNER(postProcessNER, segmentedOriginalSentence)"
   ],
   "metadata": {
    "collapsed": false,
    "ExecuteTime": {
     "end_time": "2023-10-18T09:44:33.665030400Z",
     "start_time": "2023-10-18T09:44:33.652901600Z"
    }
   }
  },
  {
   "cell_type": "code",
   "execution_count": 5,
   "outputs": [],
   "source": [
    "sentenceListForPostProcess = getSentenceListForPostProcess(segmentedOriginalSentence)"
   ],
   "metadata": {
    "collapsed": false,
    "ExecuteTime": {
     "end_time": "2023-10-18T09:44:33.673823700Z",
     "start_time": "2023-10-18T09:44:33.664111200Z"
    }
   }
  },
  {
   "cell_type": "code",
   "execution_count": 6,
   "outputs": [],
   "source": [
    "outputForTxt = getOutputForTxt(outputNER, allPredComparisonType, sentenceListForPostProcess)"
   ],
   "metadata": {
    "collapsed": false,
    "ExecuteTime": {
     "end_time": "2023-10-18T09:44:33.706418700Z",
     "start_time": "2023-10-18T09:44:33.681831900Z"
    }
   }
  },
  {
   "cell_type": "code",
   "execution_count": 7,
   "outputs": [],
   "source": [
    "sentenceIndCDNCCount = getsentenceIndCDNCCount(sentenceIndCDNC)"
   ],
   "metadata": {
    "collapsed": false,
    "ExecuteTime": {
     "end_time": "2023-10-18T09:44:33.790973200Z",
     "start_time": "2023-10-18T09:44:33.787873300Z"
    }
   }
  },
  {
   "cell_type": "code",
   "execution_count": 8,
   "outputs": [],
   "source": [
    "writeOutputTxt(outputForTxt, sentenceIndCDNCCount, pathOriginal = \"/datasets/original/VLSP2023_ComOM_public_test_nolabel/VLSP2023_ComOM_public_test_nolabel\", splitName = \"dev\", pathOut = \"/outputTxt\", curDir = curDir, idx = range(1, 25, 1))"
   ],
   "metadata": {
    "collapsed": false,
    "ExecuteTime": {
     "end_time": "2023-10-18T09:44:33.840876400Z",
     "start_time": "2023-10-18T09:44:33.840876400Z"
    }
   }
  }
 ],
 "metadata": {
  "kernelspec": {
   "display_name": "Python 3",
   "language": "python",
   "name": "python3"
  },
  "language_info": {
   "codemirror_mode": {
    "name": "ipython",
    "version": 3
   },
   "file_extension": ".py",
   "mimetype": "text/x-python",
   "name": "python",
   "nbconvert_exporter": "python",
   "pygments_lexer": "ipython3",
   "version": "3.10.0"
  },
  "orig_nbformat": 4
 },
 "nbformat": 4,
 "nbformat_minor": 2
}

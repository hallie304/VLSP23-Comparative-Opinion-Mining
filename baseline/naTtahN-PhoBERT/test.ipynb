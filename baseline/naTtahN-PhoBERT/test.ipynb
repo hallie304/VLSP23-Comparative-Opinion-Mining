{
 "cells": [
  {
   "cell_type": "code",
   "execution_count": 1,
   "outputs": [],
   "source": [
    "# %cd\n",
    "# %cd naTtahN_T1\n",
    "# %cd VLSP23_Task1\n",
    "# \n",
    "# !git clone --single-branch --branch fast_tokenizers_BARTpho_PhoBERT_BERTweet https://github.com/datquocnguyen/transformers.git\n",
    "# %cd transformers\n",
    "# %pip install -e .\n",
    "# \n",
    "# %pip install pandas\n",
    "# %pip install evaluate\n",
    "# %pip install py_vncorenlp\n",
    "# # %pip install underthesea[deep]\n",
    "# # %pip install underthesea\n",
    "# %pip install seqeval\n",
    "# %pip install accelerate\n",
    "# %pip install matplotlib"
   ],
   "metadata": {
    "collapsed": false,
    "ExecuteTime": {
     "end_time": "2023-10-13T01:06:17.689516100Z",
     "start_time": "2023-10-13T01:06:17.689516100Z"
    }
   }
  },
  {
   "cell_type": "markdown",
   "source": [
    "# Libs + Packages"
   ],
   "metadata": {
    "collapsed": false
   }
  },
  {
   "cell_type": "code",
   "execution_count": 2,
   "outputs": [
    {
     "name": "stdout",
     "output_type": "stream",
     "text": [
      "True\n",
      "1\n",
      "Quadro RTX 5000\n",
      "Current directory: /home/group2/naTtahN_T1/VLSP23_Task1\n",
      "2023-10-13 08:06:20 INFO  WordSegmenter:24 - Loading Word Segmentation model\n"
     ]
    },
    {
     "name": "stderr",
     "output_type": "stream",
     "text": [
      "Some weights of RobertaForTokenClassification were not initialized from the model checkpoint at vinai/phobert-base and are newly initialized: ['classifier.bias', 'classifier.weight']\n",
      "You should probably TRAIN this model on a down-stream task to be able to use it for predictions and inference.\n"
     ]
    },
    {
     "name": "stdout",
     "output_type": "stream",
     "text": [
      "Using device: cuda\n"
     ]
    }
   ],
   "source": [
    "import ast\n",
    "\n",
    "import numpy as np\n",
    "import pandas as pd\n",
    "import torch.utils.data\n",
    "import os\n",
    "\n",
    "\n",
    "print(torch.cuda.is_available())\n",
    "print(torch.cuda.device_count())\n",
    "print(torch.cuda.get_device_name(0))\n",
    "os.chdir('/home/group2/naTtahN_T1/VLSP23_Task1')\n",
    "\n",
    "# from libsAndPackages import *\n",
    "# from modelUtils import *\n",
    "from dataUtils import *"
   ],
   "metadata": {
    "collapsed": false,
    "ExecuteTime": {
     "end_time": "2023-10-13T01:06:26.875829500Z",
     "start_time": "2023-10-13T01:06:17.689516100Z"
    }
   }
  },
  {
   "cell_type": "code",
   "execution_count": 3,
   "outputs": [],
   "source": [
    "dataCSV = txt2csv(path = \"//datasets//modified//VLSP2023_ComOM_training//VLSP2023_ComOM_training\",\n",
    "        curDir = curDir)\n",
    "dataCSVIsComparative, dataCSVNotIsComparative = createDataNERCSV(dataCSV)\n",
    "datasetNERTokenizedCSV = tokenizeAndProcess(dataCSVIsComparative, dataCSVNotIsComparative)\n",
    "nerPhoBERTTorchDataset = DataNERPhoBERTTorch(datasetNERTokenizedCSV)"
   ],
   "metadata": {
    "collapsed": false,
    "ExecuteTime": {
     "end_time": "2023-10-13T01:06:35.272896600Z",
     "start_time": "2023-10-13T01:06:26.875829500Z"
    }
   }
  },
  {
   "cell_type": "code",
   "execution_count": 4,
   "outputs": [],
   "source": [
    "num_epochs = 60\n",
    "batchSize = 64\n",
    "trainLoader, valLoader, testLoader = splitDataset(nerPhoBERTTorchDataset, 0.90, 0.05, 0.05, batchSize, True, 14)\n",
    "\n",
    "optimizer = AdamW(phobertTokenClassification.parameters(), lr = 5e-5)\n",
    "\n",
    "num_training_steps = num_epochs * len(trainLoader)\n",
    "lr_scheduler = get_scheduler(\n",
    "    name = \"linear\", optimizer = optimizer, num_warmup_steps = 0, num_training_steps = num_training_steps\n",
    ")"
   ],
   "metadata": {
    "collapsed": false,
    "ExecuteTime": {
     "end_time": "2023-10-13T01:06:35.288450400Z",
     "start_time": "2023-10-13T01:06:35.272896600Z"
    }
   }
  },
  {
   "cell_type": "code",
   "execution_count": 5,
   "outputs": [
    {
     "name": "stderr",
     "output_type": "stream",
     "text": [
      "Epoch 0001, iteration 1:   0%|          | 0/53 [00:00<?, ?batch/s]"
     ]
    },
    {
     "name": "stdout",
     "output_type": "stream",
     "text": [
      "torch.Size([8448])\n",
      "torch.Size([64])\n",
      "torch.Size([8448])\n",
      "tensor([[1, 1, 1],\n",
      "        [0, 0, 0],\n",
      "        [0, 0, 0],\n",
      "        [0, 0, 0],\n",
      "        [0, 0, 0],\n",
      "        [0, 0, 0],\n",
      "        [0, 0, 0],\n",
      "        [1, 1, 1],\n",
      "        [0, 0, 0],\n",
      "        [0, 0, 0],\n",
      "        [1, 1, 1],\n",
      "        [0, 0, 0],\n",
      "        [1, 1, 1],\n",
      "        [0, 0, 0],\n",
      "        [0, 0, 0],\n",
      "        [0, 0, 0],\n",
      "        [1, 1, 1],\n",
      "        [0, 0, 0],\n",
      "        [0, 0, 0],\n",
      "        [1, 1, 1],\n",
      "        [0, 0, 0],\n",
      "        [1, 1, 1],\n",
      "        [0, 0, 0],\n",
      "        [0, 0, 0],\n",
      "        [1, 1, 1],\n",
      "        [0, 0, 0],\n",
      "        [1, 1, 1],\n",
      "        [0, 0, 0],\n",
      "        [0, 0, 0],\n",
      "        [0, 0, 0],\n",
      "        [0, 0, 0],\n",
      "        [0, 0, 0],\n",
      "        [1, 1, 1],\n",
      "        [1, 1, 1],\n",
      "        [0, 0, 0],\n",
      "        [0, 0, 0],\n",
      "        [0, 0, 0],\n",
      "        [0, 0, 0],\n",
      "        [0, 0, 0],\n",
      "        [0, 0, 0],\n",
      "        [1, 1, 1],\n",
      "        [0, 0, 0],\n",
      "        [0, 0, 0],\n",
      "        [0, 0, 0],\n",
      "        [0, 0, 0],\n",
      "        [0, 0, 0],\n",
      "        [1, 1, 1],\n",
      "        [0, 0, 0],\n",
      "        [0, 0, 0],\n",
      "        [0, 0, 0],\n",
      "        [0, 0, 0],\n",
      "        [0, 0, 0],\n",
      "        [0, 0, 0],\n",
      "        [0, 0, 0],\n",
      "        [1, 1, 1],\n",
      "        [1, 1, 1],\n",
      "        [1, 1, 1],\n",
      "        [1, 1, 1],\n",
      "        [0, 0, 0],\n",
      "        [0, 0, 0],\n",
      "        [0, 0, 0],\n",
      "        [0, 0, 0],\n",
      "        [0, 0, 0],\n",
      "        [0, 0, 0]], device='cuda:0')\n",
      "torch.Size([64, 3])\n"
     ]
    },
    {
     "name": "stderr",
     "output_type": "stream",
     "text": [
      "\n"
     ]
    },
    {
     "ename": "RuntimeError",
     "evalue": "The size of tensor a (8448) must match the size of tensor b (64) at non-singleton dimension 0",
     "output_type": "error",
     "traceback": [
      "\u001B[0;31m---------------------------------------------------------------------------\u001B[0m",
      "\u001B[0;31mRuntimeError\u001B[0m                              Traceback (most recent call last)",
      "Cell \u001B[0;32mIn[5], line 1\u001B[0m\n\u001B[0;32m----> 1\u001B[0m trainLog \u001B[38;5;241m=\u001B[39m \u001B[43mtrain\u001B[49m\u001B[43m(\u001B[49m\u001B[43mphobertTokenClassification\u001B[49m\u001B[43m,\u001B[49m\u001B[43m \u001B[49m\u001B[43mnum_epochs\u001B[49m\u001B[43m,\u001B[49m\u001B[43m \u001B[49m\u001B[43mtrainLoader\u001B[49m\u001B[43m,\u001B[49m\u001B[43m \u001B[49m\u001B[43mvalLoader\u001B[49m\u001B[43m,\u001B[49m\u001B[43m \u001B[49m\u001B[43moptimizer\u001B[49m\u001B[43m,\u001B[49m\u001B[43m \u001B[49m\u001B[43mdevice\u001B[49m\u001B[43m,\u001B[49m\u001B[43m \u001B[49m\u001B[43mlr_scheduler\u001B[49m\u001B[43m \u001B[49m\u001B[38;5;241;43m=\u001B[39;49m\u001B[43m \u001B[49m\u001B[43mlr_scheduler\u001B[49m\u001B[43m)\u001B[49m\n\u001B[1;32m      2\u001B[0m \u001B[38;5;66;03m# torch.save(phobertTokenClassification.state_dict(), \"phobertFinetuned.pt\")\u001B[39;00m\n",
      "File \u001B[0;32m~/naTtahN_T1/VLSP23_Task1/modelUtils.py:275\u001B[0m, in \u001B[0;36mtrain\u001B[0;34m(model, num_epochs, trainLoader, valLoader, optimizer, device, **kwargs)\u001B[0m\n\u001B[1;32m    272\u001B[0m predIsComparative, predNER, predComparisonType \u001B[38;5;241m=\u001B[39m computePredictions(logitsIsComparative, logitsNER, logitsComparisonType)\n\u001B[1;32m    273\u001B[0m trueNER \u001B[38;5;241m=\u001B[39m trueNER\u001B[38;5;241m.\u001B[39mreshape((\u001B[38;5;241m-\u001B[39m\u001B[38;5;241m1\u001B[39m, ))\n\u001B[0;32m--> 275\u001B[0m accuracyIsComparative, accuracyNER, accuracyComparisonType \u001B[38;5;241m=\u001B[39m \u001B[43mcomputeAccuracy\u001B[49m\u001B[43m(\u001B[49m\n\u001B[1;32m    276\u001B[0m \u001B[43m    \u001B[49m\u001B[43mpredIsComparative\u001B[49m\u001B[43m,\u001B[49m\u001B[43m \u001B[49m\u001B[43mpredNER\u001B[49m\u001B[43m,\u001B[49m\u001B[43m \u001B[49m\u001B[43mpredComparisonType\u001B[49m\u001B[43m,\u001B[49m\n\u001B[1;32m    277\u001B[0m \u001B[43m    \u001B[49m\u001B[43mtrueIsComparative\u001B[49m\u001B[43m,\u001B[49m\u001B[43m \u001B[49m\u001B[43mtrueNER\u001B[49m\u001B[43m,\u001B[49m\u001B[43m \u001B[49m\u001B[43mtrueComparisonType\u001B[49m\n\u001B[1;32m    278\u001B[0m \u001B[43m\u001B[49m\u001B[43m)\u001B[49m\n\u001B[1;32m    280\u001B[0m isComparativeMetrics \u001B[38;5;241m=\u001B[39m computeIsComparativePrecisionRecallF1(predIsComparative, trueIsComparative)\n\u001B[1;32m    281\u001B[0m NERMetrics \u001B[38;5;241m=\u001B[39m computeNERMetricsAll(predNER, trueNER, predIsComparative)\n",
      "File \u001B[0;32m~/naTtahN_T1/VLSP23_Task1/modelUtils.py:64\u001B[0m, in \u001B[0;36mcomputeAccuracy\u001B[0;34m(predIsComparative, predNER, predComparisonType, trueIsComparative, trueNER, trueComparisonType)\u001B[0m\n\u001B[1;32m     62\u001B[0m \u001B[38;5;28mprint\u001B[39m((trueIsComparative)\u001B[38;5;241m.\u001B[39munsqueeze(dim \u001B[38;5;241m=\u001B[39m \u001B[38;5;241m1\u001B[39m)\u001B[38;5;241m.\u001B[39mexpand((\u001B[38;5;241m-\u001B[39m\u001B[38;5;241m1\u001B[39m, \u001B[38;5;241m3\u001B[39m)))\n\u001B[1;32m     63\u001B[0m \u001B[38;5;28mprint\u001B[39m((trueIsComparative)\u001B[38;5;241m.\u001B[39munsqueeze(dim \u001B[38;5;241m=\u001B[39m \u001B[38;5;241m1\u001B[39m)\u001B[38;5;241m.\u001B[39mexpand((\u001B[38;5;241m-\u001B[39m\u001B[38;5;241m1\u001B[39m, \u001B[38;5;241m3\u001B[39m))\u001B[38;5;241m.\u001B[39mshape)\n\u001B[0;32m---> 64\u001B[0m countCorrectNER \u001B[38;5;241m=\u001B[39m (\u001B[43m(\u001B[49m\u001B[43mpredNER\u001B[49m\u001B[43m \u001B[49m\u001B[38;5;241;43m==\u001B[39;49m\u001B[43m \u001B[49m\u001B[43mtrueNER\u001B[49m\u001B[43m)\u001B[49m\u001B[43m \u001B[49m\u001B[38;5;241;43m&\u001B[39;49m\u001B[43m \u001B[49m\u001B[43m(\u001B[49m\u001B[43mtrueIsComparative\u001B[49m\u001B[43m \u001B[49m\u001B[38;5;241;43m==\u001B[39;49m\u001B[43m \u001B[49m\u001B[38;5;241;43m1\u001B[39;49m\u001B[43m)\u001B[49m)\u001B[38;5;241m.\u001B[39msum()\n\u001B[1;32m     65\u001B[0m countCorrectComparisonType \u001B[38;5;241m=\u001B[39m ((predComparisonType \u001B[38;5;241m==\u001B[39m trueComparisonType) \u001B[38;5;241m&\u001B[39m (trueIsComparative \u001B[38;5;241m==\u001B[39m \u001B[38;5;241m1\u001B[39m))\u001B[38;5;241m.\u001B[39msum()\n\u001B[1;32m     67\u001B[0m totalIsComparative \u001B[38;5;241m=\u001B[39m trueIsComparative\u001B[38;5;241m.\u001B[39mshape[\u001B[38;5;241m0\u001B[39m]\n",
      "\u001B[0;31mRuntimeError\u001B[0m: The size of tensor a (8448) must match the size of tensor b (64) at non-singleton dimension 0"
     ]
    }
   ],
   "source": [
    "trainLog = train(phobertTokenClassification, num_epochs, trainLoader, valLoader, optimizer, device, lr_scheduler = lr_scheduler)\n",
    "# torch.save(phobertTokenClassification.state_dict(), \"phobertFinetuned.pt\")"
   ],
   "metadata": {
    "collapsed": false,
    "ExecuteTime": {
     "end_time": "2023-10-13T01:06:36.832722600Z",
     "start_time": "2023-10-13T01:06:35.288450400Z"
    }
   }
  },
  {
   "cell_type": "code",
   "execution_count": null,
   "outputs": [],
   "source": [
    "evalOnValSet(phobertTokenClassification, testLoader, lossCombine, device)"
   ],
   "metadata": {
    "collapsed": false,
    "ExecuteTime": {
     "start_time": "2023-10-13T01:06:36.817005400Z"
    }
   }
  },
  {
   "cell_type": "code",
   "execution_count": null,
   "outputs": [],
   "source": [
    "    # 0 - train, 1 - val \n",
    "# 0 - loss, 1 - isComparative, 2 = NER, 3 = comparisonType\n",
    "plotData = []\n",
    "plotData1 = []\n",
    "plotInfo = 1\n",
    "for i in range(num_epochs):\n",
    "    plotData.append(trainLog[i][0][plotInfo])\n",
    "    plotData1.append(trainLog[i][1][plotInfo])\n",
    "plt.plot(plotData)\n",
    "plt.plot(plotData1)"
   ],
   "metadata": {
    "collapsed": false,
    "ExecuteTime": {
     "start_time": "2023-10-13T01:06:36.817005400Z"
    }
   }
  },
  {
   "cell_type": "markdown",
   "source": [
    "# Test"
   ],
   "metadata": {
    "collapsed": false
   }
  },
  {
   "cell_type": "code",
   "execution_count": null,
   "outputs": [],
   "source": [
    "# dataCSV = txt2csv(path = \"//datasets//modified//VLSP2023_ComOM_training//VLSP2023_ComOM_training\",\n",
    "#         curDir = curDir)\n",
    "# dataCSVIsComparative, dataCSVNotIsComparative = createDataNERCSV(dataCSV)\n",
    "# datasetNERTokenizedCSV = tokenizeAndProcess(dataCSVIsComparative, dataCSVNotIsComparative)\n",
    "# nerPhoBERTTorchDataset = DataNERPhoBERTTorch(datasetNERTokenizedCSV)"
   ],
   "metadata": {
    "collapsed": false,
    "ExecuteTime": {
     "start_time": "2023-10-13T01:06:36.863879Z"
    }
   }
  },
  {
   "cell_type": "code",
   "execution_count": null,
   "outputs": [],
   "source": [
    "# dataNER = pd.read_csv(curDir + \"//datasets//modified//preprocessed//VLSP23_NER.csv\", index_col = \"Unnamed: 0\")\n",
    "# \n",
    "# dropInd = []\n",
    "# for i in range(len(dataNER)):\n",
    "#     dataNER.at[i, 'labelNER'] = ast.literal_eval(dataNER.at[i, 'labelNER'])\n",
    "#     if (len(set(dataNER.iloc[i]['labelNER'])) == 1):\n",
    "#         dropInd.append(i)\n",
    "# dataNER = dataNER.drop(dropInd)\n",
    "#         \n",
    "# dataNER"
   ],
   "metadata": {
    "collapsed": false,
    "ExecuteTime": {
     "start_time": "2023-10-13T01:06:36.863879Z"
    }
   }
  },
  {
   "cell_type": "code",
   "execution_count": null,
   "outputs": [],
   "source": [
    "# sentenceTokenized = tokenize_and_align_labels(dataNER)"
   ],
   "metadata": {
    "collapsed": false,
    "ExecuteTime": {
     "start_time": "2023-10-13T01:06:36.863879Z"
    }
   }
  },
  {
   "cell_type": "code",
   "execution_count": null,
   "outputs": [],
   "source": [
    "# sentenceTokenizedDict = dict(sentenceTokenized)\n",
    "# dataNERTokenized = pd.DataFrame(sentenceTokenizedDict)\n",
    "# dataNERTokenized.to_csv(r\"C:\\Users\\nguye\\Downloads\\VLSP23_dataNERPhoBERTTokenized.csv\")"
   ],
   "metadata": {
    "collapsed": false,
    "ExecuteTime": {
     "start_time": "2023-10-13T01:06:36.863879Z"
    }
   }
  },
  {
   "cell_type": "code",
   "execution_count": null,
   "outputs": [],
   "source": [
    "# nerPhoBERTTorchDataset = DataNERPhoBERTTorch(curDir + '//datasets//modified//preprocessed//VLSP23_dataNERPhoBERTTokenized.csv')"
   ],
   "metadata": {
    "collapsed": false,
    "ExecuteTime": {
     "start_time": "2023-10-13T01:06:36.863879Z"
    }
   }
  },
  {
   "cell_type": "code",
   "execution_count": null,
   "outputs": [],
   "source": [
    "# num_epochs = 10\n",
    "# batchSize = 64\n",
    "# trainLoader, valLoader, testLoader = splitDataset(nerPhoBERTTorchDataset, 0.90, 0.05, 0.05, batchSize, True, 14)"
   ],
   "metadata": {
    "collapsed": false,
    "ExecuteTime": {
     "start_time": "2023-10-13T01:06:36.863879Z"
    }
   }
  },
  {
   "cell_type": "code",
   "execution_count": null,
   "outputs": [],
   "source": [
    "# optimizer = AdamW(phobertTokenClassification.parameters(), lr = 5e-5)\n",
    "# \n",
    "# num_training_steps = num_epochs * len(trainLoader)\n",
    "# lr_scheduler = get_scheduler(\n",
    "#     name = \"linear\", optimizer = optimizer, num_warmup_steps = 0, num_training_steps = num_training_steps\n",
    "# )"
   ],
   "metadata": {
    "collapsed": false,
    "ExecuteTime": {
     "start_time": "2023-10-13T01:06:36.863879Z"
    }
   }
  },
  {
   "cell_type": "code",
   "execution_count": null,
   "outputs": [],
   "source": [
    "# train(phobertTokenClassification, num_epochs, trainLoader, valLoader, optimizer, device, lr_scheduler = lr_scheduler)"
   ],
   "metadata": {
    "collapsed": false,
    "ExecuteTime": {
     "end_time": "2023-10-13T01:06:36.910858100Z",
     "start_time": "2023-10-13T01:06:36.863879Z"
    }
   }
  },
  {
   "cell_type": "code",
   "execution_count": null,
   "outputs": [],
   "source": [
    "# evalOnValSet(phobertTokenClassification, testLoader, lossCombine, device)"
   ],
   "metadata": {
    "collapsed": false,
    "ExecuteTime": {
     "start_time": "2023-10-13T01:06:36.863879Z"
    }
   }
  }
 ],
 "metadata": {
  "kernelspec": {
   "display_name": "Python 3",
   "language": "python",
   "name": "python3"
  },
  "language_info": {
   "codemirror_mode": {
    "name": "ipython",
    "version": 3
   },
   "file_extension": ".py",
   "mimetype": "text/x-python",
   "name": "python",
   "nbconvert_exporter": "python",
   "pygments_lexer": "ipython3",
   "version": "3.10.0"
  },
  "orig_nbformat": 4
 },
 "nbformat": 4,
 "nbformat_minor": 2
}

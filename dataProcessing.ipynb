{
 "cells": [
  {
   "cell_type": "code",
   "execution_count": 1,
   "outputs": [
    {
     "name": "stdout",
     "output_type": "stream",
     "text": [
      "D:\\Becks\\Coding\\Python\\Py-Codes\\VLSP23\n"
     ]
    }
   ],
   "source": [
    "import numpy as np\n",
    "\n",
    "from libsAndPackages import *\n",
    "from dataUtils import *\n",
    "from modelUtils import *"
   ],
   "metadata": {
    "collapsed": false,
    "ExecuteTime": {
     "end_time": "2023-10-06T18:11:24.566388400Z",
     "start_time": "2023-10-06T18:10:53.900893900Z"
    }
   },
   "id": "812b51abb5434efc"
  },
  {
   "cell_type": "markdown",
   "source": [
    "# Data"
   ],
   "metadata": {
    "collapsed": false
   },
   "id": "a33de8d8dc95bae1"
  },
  {
   "cell_type": "code",
   "execution_count": 2,
   "outputs": [
    {
     "name": "stdout",
     "output_type": "stream",
     "text": [
      "trainWithLabel size: 1084\n",
      "Total number of sentences: 4048\n",
      "Dictionary keys: ['subject', 'object', 'aspect', 'predicate', 'label']\n",
      "Label count: {'DIF': 56, 'EQL': 280, 'SUP': 4, 'SUP+': 107, 'SUP-': 5, 'COM': 21, 'COM+': 501, 'COM-': 110}\n"
     ]
    }
   ],
   "source": [
    "trainWithLabel = []\n",
    "sentenceList = []\n",
    "# prevAltDes = False\n",
    "\n",
    "for i in range(1, 61, 1):\n",
    "    fileName = \"//datasets//modified//VLSP2023_ComOM_training//VLSP2023_ComOM_training//train_%04d.txt\" % (i)\n",
    "    fileName = curDir + fileName\n",
    "    lineNo = 0\n",
    "    \n",
    "    with open(fileName, 'r', encoding = 'utf8') as txtFile:\n",
    "        for line in txtFile:\n",
    "            lineNo += 1\n",
    "            if (line[:-1] != ''):\n",
    "                try:\n",
    "                    data = ast.literal_eval(line)\n",
    "                    if isinstance(data, dict):\n",
    "                        trainWithLabel.append(data)\n",
    "\n",
    "                        # if (prevAltDes):\n",
    "                        #     print(\"%d %d\" % (i, lineNo))\n",
    "                except:\n",
    "                    # prevAltDes = False\n",
    "                    # if isinstance(line[:-1], str):\n",
    "                    sentenceList.append(line[:-1])\n",
    "\n",
    "                        # if (line[:-1][:4] == \"alt:\"):\n",
    "                        # if ((line[:-1][:4] == \"alt:\") | (line[:-1][:4] == \"des:\")):\n",
    "                            # prevAltDes = True\n",
    "\n",
    "temp = trainWithLabel[0].keys()\n",
    "\n",
    "print(\"trainWithLabel size: %d\" % (len(trainWithLabel)))\n",
    "print(\"Total number of sentences: %d\" % (len(sentenceList)))\n",
    "print(\"Dictionary keys: %s\" % (str(list(temp))))\n",
    "\n",
    "for i in range(len(trainWithLabel)):\n",
    "    if (len(set(trainWithLabel[i].keys()).intersection(temp)) != 5):\n",
    "        print(\"DIFF!!\")\n",
    "\n",
    "for i in range(len(trainWithLabel)):\n",
    "    if (len(trainWithLabel[i]['predicate']) == 0):\n",
    "        print(\"PREDICATE EMPTY!\")\n",
    "    if (len(trainWithLabel[i]['label']) == 0):\n",
    "        print(\"LABEL EMPTY!\")\n",
    "\n",
    "countDict = {'DIF': 0, 'EQL': 0, 'SUP': 0, 'SUP+': 0, 'SUP-': 0, 'COM': 0, 'COM+': 0, 'COM-': 0}\n",
    "for i in range(len(trainWithLabel)):\n",
    "    countDict[trainWithLabel[i]['label']] += 1\n",
    "print(\"Label count: %s\" % (countDict.__str__()))"
   ],
   "metadata": {
    "collapsed": false,
    "ExecuteTime": {
     "end_time": "2023-10-06T18:11:24.804527800Z",
     "start_time": "2023-10-06T18:11:24.572541800Z"
    }
   },
   "id": "2d026e4d18050dda"
  },
  {
   "cell_type": "markdown",
   "source": [
    "# Create CSV (All)"
   ],
   "metadata": {
    "collapsed": false
   },
   "id": "53ae9d040dafa8e6"
  },
  {
   "cell_type": "code",
   "execution_count": 3,
   "outputs": [],
   "source": [
    "# trainWithLabel = []\n",
    "# sentenceList = []\n",
    "# isComparative = []\n",
    "# prevSentence = False\n",
    "# # prevAltDes = False\n",
    "# \n",
    "# for i in range(1, 61, 1):\n",
    "#     fileName = \"//datasets//modified//VLSP2023_ComOM_training//VLSP2023_ComOM_training//train_%04d.txt\" % (i)\n",
    "#     fileName = curDir + fileName\n",
    "#     lineNo = 0\n",
    "# \n",
    "#     with open(fileName, 'r', encoding = 'utf8') as txtFile:\n",
    "#         for line in txtFile:\n",
    "#             lineNo += 1\n",
    "#             if (line[:-1] != ''):\n",
    "#                 try:\n",
    "#                     data = ast.literal_eval(line)\n",
    "#                     if isinstance(data, dict):\n",
    "#                         trainWithLabel.append(data)\n",
    "#                         isComparative.append(1)\n",
    "#                         if (prevSentence):\n",
    "#                             prevSentence = False\n",
    "#                         else:\n",
    "#                             sentenceList.append(sentenceList[-1])\n",
    "# \n",
    "#                 except:\n",
    "#                     # prevAltDes = False\n",
    "#                     if (prevSentence):\n",
    "#                         trainWithLabel.append({'subject': [], 'object': [], 'aspect': [], 'predicate': [], 'label': []})\n",
    "#                         isComparative.append(0)\n",
    "# \n",
    "#                     sentenceList.append(line[:-1])\n",
    "#                     prevSentence = True\n",
    "# \n",
    "#                         # if (line[:-1][:4] == \"alt:\"):\n",
    "#                         # if ((line[:-1][:4] == \"alt:\") | (line[:-1][:4] == \"des:\")):\n",
    "#                             # prevAltDes = True\n",
    "# \n",
    "# trainWithLabel.append({'subject': [], 'object': [], 'aspect': [], 'predicate': [], 'label': []})\n",
    "# isComparative.append(0)"
   ],
   "metadata": {
    "collapsed": false,
    "ExecuteTime": {
     "end_time": "2023-10-02T10:12:06.022350400Z",
     "start_time": "2023-10-02T10:12:05.344073400Z"
    }
   },
   "id": "3b63a79c1de46bc8"
  },
  {
   "cell_type": "code",
   "execution_count": 4,
   "outputs": [],
   "source": [
    "# subj = []\n",
    "# obj = []\n",
    "# asp = []\n",
    "# predicate = []\n",
    "# label = []\n",
    "# \n",
    "# for i in range(len(trainWithLabel)):\n",
    "#     subj.append(trainWithLabel[i]['subject'])\n",
    "#     obj.append(trainWithLabel[i]['object'])\n",
    "#     asp.append(trainWithLabel[i]['aspect'])\n",
    "#     predicate.append(trainWithLabel[i]['predicate'])\n",
    "#     label.append(trainWithLabel[i]['label'])"
   ],
   "metadata": {
    "collapsed": false,
    "ExecuteTime": {
     "end_time": "2023-10-02T10:12:07.594671100Z",
     "start_time": "2023-10-02T10:12:07.579039600Z"
    }
   },
   "id": "9aef7188e7444b0a"
  },
  {
   "cell_type": "code",
   "execution_count": 5,
   "outputs": [],
   "source": [
    "# myData = pd.DataFrame(list(zip(sentenceList, isComparative, subj, obj, asp, predicate, label)), \n",
    "#                       columns = ['Input sentence', 'isComparative', 'subject', 'object', 'aspect', 'predicate', 'label'])"
   ],
   "metadata": {
    "collapsed": false,
    "ExecuteTime": {
     "end_time": "2023-10-02T10:12:10.362380400Z",
     "start_time": "2023-10-02T10:12:10.345955400Z"
    }
   },
   "id": "6fc2a381139a3cc9"
  },
  {
   "cell_type": "code",
   "execution_count": 6,
   "outputs": [],
   "source": [
    "# myData.to_csv(r\"C:\\Users\\nguye\\Downloads\\VLSP23.csv\")"
   ],
   "metadata": {
    "collapsed": false,
    "ExecuteTime": {
     "end_time": "2023-10-02T10:12:11.524955700Z",
     "start_time": "2023-10-02T10:12:11.462389900Z"
    }
   },
   "id": "ea8a9b65b25d2974"
  },
  {
   "cell_type": "markdown",
   "source": [
    "# Create CSV (isComparative)"
   ],
   "metadata": {
    "collapsed": false
   },
   "id": "27b03e04b1ca8b52"
  },
  {
   "cell_type": "code",
   "execution_count": 7,
   "outputs": [
    {
     "data": {
      "text/plain": "                                         Input sentence  isComparative  \\\n0     Title: Review iPhone 14: Thiết kế, hiệu năng, ...              0   \n1     iPhone 14 được ra mắt vào 09/2022, được đánh g...              1   \n2     iPhone 14 được ra mắt vào 09/2022, được đánh g...              1   \n3     Về ngoại hình thì cũng có rất ít sự khác biệt ...              1   \n4     Có một vài ý kiến trái chiều cho rằng, phiên b...              0   \n...                                                 ...            ...   \n4319    Trong khi trên iPhone 14 Pro Max vẫn còn 21%.              0   \n4320  Kết quả cho thấy model của Apple có thể ...              0   \n4321  Đối thủ của iPhone 14 Pro Max - Pixel 7 Pro...              0   \n4322  Tuy nhiên, một lưu ý rằng Google Pixel 7 Pr...              1   \n4323  Có vẻ như, Apple đã tối ưu khá tốt giữa...              0   \n\n                                            subject  \\\n0                                                []   \n1                            ['1&&iPhone', '2&&14']   \n2                            ['1&&iPhone', '2&&14']   \n3                                                []   \n4                                                []   \n...                                             ...   \n4319                                             []   \n4320                                             []   \n4321                                             []   \n4322  ['8&&Google', '9&&Pixel', '10&&7', '11&&Pro']   \n4323                                             []   \n\n                                                 object  \\\n0                                                    []   \n1                    ['28&&thế', '29&&hệ', '30&&trước']   \n2                    ['28&&thế', '29&&hệ', '30&&trước']   \n3        ['14&&thế', '15&&hệ', '16&&tiền', '17&&nhiệm']   \n4                                                    []   \n...                                                 ...   \n4319                                                 []   \n4320                                                 []   \n4321                                                 []   \n4322  ['22&&các', '23&&đối', '24&&thủ', '25&&Andr...   \n4323                                                 []   \n\n                          aspect  \\\n0                             []   \n1       ['20&&phần', '21&&cứng']   \n2        ['24&&phần', '25&&mềm']   \n3        ['2&&ngoại', '3&&hình']   \n4                             []   \n...                          ...   \n4319                          []   \n4320                          []   \n4321                          []   \n4322  ['15&&hiệu', '16&&suất']   \n4323                          []   \n\n                                              predicate label  \n0                                                    []    []  \n1                    ['16&&nâng', '17&&cấp', '18&&nhẹ']  COM+  \n2                    ['16&&nâng', '17&&cấp', '18&&nhẹ']  COM+  \n3     ['7&&rất', '8&&ít', '9&&sự', '10&&khác', '11&&...   EQL  \n4                                                    []    []  \n...                                                 ...   ...  \n4319                                                 []    []  \n4320                                                 []    []  \n4321                                                 []    []  \n4322   ['17&&mạnh', '18&&mẽ', '19&&tương', '20&&tự']   EQL  \n4323                                                 []    []  \n\n[4324 rows x 7 columns]",
      "text/html": "<div>\n<style scoped>\n    .dataframe tbody tr th:only-of-type {\n        vertical-align: middle;\n    }\n\n    .dataframe tbody tr th {\n        vertical-align: top;\n    }\n\n    .dataframe thead th {\n        text-align: right;\n    }\n</style>\n<table border=\"1\" class=\"dataframe\">\n  <thead>\n    <tr style=\"text-align: right;\">\n      <th></th>\n      <th>Input sentence</th>\n      <th>isComparative</th>\n      <th>subject</th>\n      <th>object</th>\n      <th>aspect</th>\n      <th>predicate</th>\n      <th>label</th>\n    </tr>\n  </thead>\n  <tbody>\n    <tr>\n      <th>0</th>\n      <td>Title: Review iPhone 14: Thiết kế, hiệu năng, ...</td>\n      <td>0</td>\n      <td>[]</td>\n      <td>[]</td>\n      <td>[]</td>\n      <td>[]</td>\n      <td>[]</td>\n    </tr>\n    <tr>\n      <th>1</th>\n      <td>iPhone 14 được ra mắt vào 09/2022, được đánh g...</td>\n      <td>1</td>\n      <td>['1&amp;&amp;iPhone', '2&amp;&amp;14']</td>\n      <td>['28&amp;&amp;thế', '29&amp;&amp;hệ', '30&amp;&amp;trước']</td>\n      <td>['20&amp;&amp;phần', '21&amp;&amp;cứng']</td>\n      <td>['16&amp;&amp;nâng', '17&amp;&amp;cấp', '18&amp;&amp;nhẹ']</td>\n      <td>COM+</td>\n    </tr>\n    <tr>\n      <th>2</th>\n      <td>iPhone 14 được ra mắt vào 09/2022, được đánh g...</td>\n      <td>1</td>\n      <td>['1&amp;&amp;iPhone', '2&amp;&amp;14']</td>\n      <td>['28&amp;&amp;thế', '29&amp;&amp;hệ', '30&amp;&amp;trước']</td>\n      <td>['24&amp;&amp;phần', '25&amp;&amp;mềm']</td>\n      <td>['16&amp;&amp;nâng', '17&amp;&amp;cấp', '18&amp;&amp;nhẹ']</td>\n      <td>COM+</td>\n    </tr>\n    <tr>\n      <th>3</th>\n      <td>Về ngoại hình thì cũng có rất ít sự khác biệt ...</td>\n      <td>1</td>\n      <td>[]</td>\n      <td>['14&amp;&amp;thế', '15&amp;&amp;hệ', '16&amp;&amp;tiền', '17&amp;&amp;nhiệm']</td>\n      <td>['2&amp;&amp;ngoại', '3&amp;&amp;hình']</td>\n      <td>['7&amp;&amp;rất', '8&amp;&amp;ít', '9&amp;&amp;sự', '10&amp;&amp;khác', '11&amp;&amp;...</td>\n      <td>EQL</td>\n    </tr>\n    <tr>\n      <th>4</th>\n      <td>Có một vài ý kiến trái chiều cho rằng, phiên b...</td>\n      <td>0</td>\n      <td>[]</td>\n      <td>[]</td>\n      <td>[]</td>\n      <td>[]</td>\n      <td>[]</td>\n    </tr>\n    <tr>\n      <th>...</th>\n      <td>...</td>\n      <td>...</td>\n      <td>...</td>\n      <td>...</td>\n      <td>...</td>\n      <td>...</td>\n      <td>...</td>\n    </tr>\n    <tr>\n      <th>4319</th>\n      <td>Trong khi trên iPhone 14 Pro Max vẫn còn 21%.</td>\n      <td>0</td>\n      <td>[]</td>\n      <td>[]</td>\n      <td>[]</td>\n      <td>[]</td>\n      <td>[]</td>\n    </tr>\n    <tr>\n      <th>4320</th>\n      <td>Kết quả cho thấy model của Apple có thể ...</td>\n      <td>0</td>\n      <td>[]</td>\n      <td>[]</td>\n      <td>[]</td>\n      <td>[]</td>\n      <td>[]</td>\n    </tr>\n    <tr>\n      <th>4321</th>\n      <td>Đối thủ của iPhone 14 Pro Max - Pixel 7 Pro...</td>\n      <td>0</td>\n      <td>[]</td>\n      <td>[]</td>\n      <td>[]</td>\n      <td>[]</td>\n      <td>[]</td>\n    </tr>\n    <tr>\n      <th>4322</th>\n      <td>Tuy nhiên, một lưu ý rằng Google Pixel 7 Pr...</td>\n      <td>1</td>\n      <td>['8&amp;&amp;Google', '9&amp;&amp;Pixel', '10&amp;&amp;7', '11&amp;&amp;Pro']</td>\n      <td>['22&amp;&amp;các', '23&amp;&amp;đối', '24&amp;&amp;thủ', '25&amp;&amp;Andr...</td>\n      <td>['15&amp;&amp;hiệu', '16&amp;&amp;suất']</td>\n      <td>['17&amp;&amp;mạnh', '18&amp;&amp;mẽ', '19&amp;&amp;tương', '20&amp;&amp;tự']</td>\n      <td>EQL</td>\n    </tr>\n    <tr>\n      <th>4323</th>\n      <td>Có vẻ như, Apple đã tối ưu khá tốt giữa...</td>\n      <td>0</td>\n      <td>[]</td>\n      <td>[]</td>\n      <td>[]</td>\n      <td>[]</td>\n      <td>[]</td>\n    </tr>\n  </tbody>\n</table>\n<p>4324 rows × 7 columns</p>\n</div>"
     },
     "execution_count": 7,
     "metadata": {},
     "output_type": "execute_result"
    }
   ],
   "source": [
    "# myData = pd.read_csv(curDir + \"//datasets//modified//preprocessed//VLSP23.csv\", index_col = 'Unnamed: 0')\n",
    "# myData"
   ],
   "metadata": {
    "collapsed": false,
    "ExecuteTime": {
     "end_time": "2023-10-02T10:12:26.879831400Z",
     "start_time": "2023-10-02T10:12:26.817240500Z"
    }
   },
   "id": "37bb8dc5aa330baf"
  },
  {
   "cell_type": "code",
   "execution_count": 8,
   "outputs": [
    {
     "data": {
      "text/plain": "                                         Input sentence  isComparative\n0     Title: Review iPhone 14: Thiết kế, hiệu năng, ...              0\n1     iPhone 14 được ra mắt vào 09/2022, được đánh g...              1\n2     Về ngoại hình thì cũng có rất ít sự khác biệt ...              1\n3     Có một vài ý kiến trái chiều cho rằng, phiên b...              0\n4     Thực tế khi mua hoặc nâng cấp một thiết bị di ...              0\n...                                                 ...            ...\n3433    Trong khi trên iPhone 14 Pro Max vẫn còn 21%.              0\n3434  Kết quả cho thấy model của Apple có thể ...              0\n3435  Đối thủ của iPhone 14 Pro Max - Pixel 7 Pro...              0\n3436  Tuy nhiên, một lưu ý rằng Google Pixel 7 Pr...              1\n3437  Có vẻ như, Apple đã tối ưu khá tốt giữa...              0\n\n[3438 rows x 2 columns]",
      "text/html": "<div>\n<style scoped>\n    .dataframe tbody tr th:only-of-type {\n        vertical-align: middle;\n    }\n\n    .dataframe tbody tr th {\n        vertical-align: top;\n    }\n\n    .dataframe thead th {\n        text-align: right;\n    }\n</style>\n<table border=\"1\" class=\"dataframe\">\n  <thead>\n    <tr style=\"text-align: right;\">\n      <th></th>\n      <th>Input sentence</th>\n      <th>isComparative</th>\n    </tr>\n  </thead>\n  <tbody>\n    <tr>\n      <th>0</th>\n      <td>Title: Review iPhone 14: Thiết kế, hiệu năng, ...</td>\n      <td>0</td>\n    </tr>\n    <tr>\n      <th>1</th>\n      <td>iPhone 14 được ra mắt vào 09/2022, được đánh g...</td>\n      <td>1</td>\n    </tr>\n    <tr>\n      <th>2</th>\n      <td>Về ngoại hình thì cũng có rất ít sự khác biệt ...</td>\n      <td>1</td>\n    </tr>\n    <tr>\n      <th>3</th>\n      <td>Có một vài ý kiến trái chiều cho rằng, phiên b...</td>\n      <td>0</td>\n    </tr>\n    <tr>\n      <th>4</th>\n      <td>Thực tế khi mua hoặc nâng cấp một thiết bị di ...</td>\n      <td>0</td>\n    </tr>\n    <tr>\n      <th>...</th>\n      <td>...</td>\n      <td>...</td>\n    </tr>\n    <tr>\n      <th>3433</th>\n      <td>Trong khi trên iPhone 14 Pro Max vẫn còn 21%.</td>\n      <td>0</td>\n    </tr>\n    <tr>\n      <th>3434</th>\n      <td>Kết quả cho thấy model của Apple có thể ...</td>\n      <td>0</td>\n    </tr>\n    <tr>\n      <th>3435</th>\n      <td>Đối thủ của iPhone 14 Pro Max - Pixel 7 Pro...</td>\n      <td>0</td>\n    </tr>\n    <tr>\n      <th>3436</th>\n      <td>Tuy nhiên, một lưu ý rằng Google Pixel 7 Pr...</td>\n      <td>1</td>\n    </tr>\n    <tr>\n      <th>3437</th>\n      <td>Có vẻ như, Apple đã tối ưu khá tốt giữa...</td>\n      <td>0</td>\n    </tr>\n  </tbody>\n</table>\n<p>3438 rows × 2 columns</p>\n</div>"
     },
     "execution_count": 8,
     "metadata": {},
     "output_type": "execute_result"
    }
   ],
   "source": [
    "# myDataSelected = myData[['Input sentence', 'isComparative']].drop_duplicates(ignore_index = True)\n",
    "# myDataSelected"
   ],
   "metadata": {
    "collapsed": false,
    "ExecuteTime": {
     "end_time": "2023-10-02T10:12:28.513269300Z",
     "start_time": "2023-10-02T10:12:28.450769500Z"
    }
   },
   "id": "79d6fec90dcf3c95"
  },
  {
   "cell_type": "code",
   "execution_count": 9,
   "outputs": [],
   "source": [
    "# myDataSelected = myDataSelected.drop([1516])"
   ],
   "metadata": {
    "collapsed": false,
    "ExecuteTime": {
     "end_time": "2023-10-02T10:12:31.289594300Z",
     "start_time": "2023-10-02T10:12:31.273983100Z"
    }
   },
   "id": "f9cddc9e1c6ec940"
  },
  {
   "cell_type": "code",
   "execution_count": 10,
   "outputs": [],
   "source": [
    "# myDataSelected.to_csv(r\"C:\\Users\\nguye\\Downloads\\VLSP23_isComparative.csv\")"
   ],
   "metadata": {
    "collapsed": false,
    "ExecuteTime": {
     "end_time": "2023-10-02T10:12:33.863515700Z",
     "start_time": "2023-10-02T10:12:33.816647700Z"
    }
   },
   "id": "2ea4be28d59ad2ee"
  },
  {
   "cell_type": "markdown",
   "source": [
    "# Create CSV (NER)"
   ],
   "metadata": {
    "collapsed": false
   },
   "id": "3f2365b4cbff560e"
  },
  {
   "cell_type": "code",
   "execution_count": 3,
   "outputs": [
    {
     "data": {
      "text/plain": "                                         Input sentence  isComparative  \\\n1     iPhone 14 được ra mắt vào 09 / 2022, được đánh...              1   \n2     iPhone 14 được ra mắt vào 09 / 2022, được đánh...              1   \n3     Về ngoại hình thì cũng có rất ít sự khác biệt ...              1   \n12    Nhìn chung, về thiết kế của iPhone 14 thì khôn...              1   \n16    Tương tự, thì hệ thống camera vẫn giữ nguyên t...              1   \n...                                                 ...            ...   \n4300  Mặc dù cả hai thiết bị đều sở hữu viên...              1   \n4301  Mặc dù cả hai thiết bị đều sở hữu viên...              1   \n4312  Tuy nhiên, sau hai giờ sử dụng thì điện t...              1   \n4316  iPhone 14 Pro Max có thời lượng pin tốt hơ...              1   \n4322  Tuy nhiên, một lưu ý rằng Google Pixel 7 Pr...              1   \n\n                                    subject  \\\n1                        [1&&iPhone, 2&&14]   \n2                        [1&&iPhone, 2&&14]   \n3                                        []   \n12                       [8&&iPhone, 9&&14]   \n16             [5&&hệ, 6&&thống, 7&&camera]   \n...                                     ...   \n4300            [4&&hai, 5&&thiết, 6&&bị]   \n4301            [4&&hai, 5&&thiết, 6&&bị]   \n4312                           [12&&iPhone]   \n4316     [1&&iPhone, 2&&14, 3&&Pro, 4&&Max]   \n4322  [8&&Google, 9&&Pixel, 10&&7, 11&&Pro]   \n\n                                                 object  \\\n1                          [28&&thế, 29&&hệ, 30&&trước]   \n2                          [28&&thế, 29&&hệ, 30&&trước]   \n3                [14&&thế, 15&&hệ, 16&&tiền, 17&&nhiệm]   \n12                                 [26&&iPhone, 27&&13]   \n16                                                   []   \n...                                                 ...   \n4300                        [4&&hai, 5&&thiết, 6&&bị]   \n4301                        [4&&hai, 5&&thiết, 6&&bị]   \n4312                                                 []   \n4316                               [13&&đối, 14&&thủ]   \n4322  [22&&các, 23&&đối, 24&&thủ, 25&&Android, 26...   \n\n                                                 aspect  \\\n1                                  [20&&phần, 21&&cứng]   \n2                                   [24&&phần, 25&&mềm]   \n3                                   [2&&ngoại, 3&&hình]   \n12                                    [5&&thiết, 6&&kế]   \n16                                  [11&&thiết, 12&&kế]   \n...                                                 ...   \n4300  [10&&viên, 11&&pin, 12&&có, 13&&dung, 14&&lươ...   \n4301                     [19&&tuổi, 20&&thọ, 21&&pin]   \n4312                               [14&&kết, 15&&quả]   \n4316                      [6&&thời, 7&&lượng, 8&&pin]   \n4322                             [15&&hiệu, 16&&suất]   \n\n                                              predicate label  \n1                          [16&&nâng, 17&&cấp, 18&&nhẹ]  COM+  \n2                          [16&&nâng, 17&&cấp, 18&&nhẹ]  COM+  \n3            [7&&rất, 8&&ít, 9&&sự, 10&&khác, 11&&biệt]   EQL  \n12    [11&&không, 12&&có, 13&&sự, 14&&khác, 15&&biệt...   EQL  \n16                                [9&&giữ, 10&&_nguyên]   EQL  \n...                                                 ...   ...  \n4300                         [7&&đều, 8&&sở, 9&&hữu]   EQL  \n4301  [22&&có, 23&&sự, 24&&chênh, 25&&lệch, 26&&k...   DIF  \n4312                                [16&&tốt, 17&&hơn]  COM+  \n4316                                 [9&&tốt, 10&&hơn]  COM+  \n4322           [17&&mạnh, 18&&mẽ, 19&&tương, 20&&tự]   EQL  \n\n[1084 rows x 7 columns]",
      "text/html": "<div>\n<style scoped>\n    .dataframe tbody tr th:only-of-type {\n        vertical-align: middle;\n    }\n\n    .dataframe tbody tr th {\n        vertical-align: top;\n    }\n\n    .dataframe thead th {\n        text-align: right;\n    }\n</style>\n<table border=\"1\" class=\"dataframe\">\n  <thead>\n    <tr style=\"text-align: right;\">\n      <th></th>\n      <th>Input sentence</th>\n      <th>isComparative</th>\n      <th>subject</th>\n      <th>object</th>\n      <th>aspect</th>\n      <th>predicate</th>\n      <th>label</th>\n    </tr>\n  </thead>\n  <tbody>\n    <tr>\n      <th>1</th>\n      <td>iPhone 14 được ra mắt vào 09 / 2022, được đánh...</td>\n      <td>1</td>\n      <td>[1&amp;&amp;iPhone, 2&amp;&amp;14]</td>\n      <td>[28&amp;&amp;thế, 29&amp;&amp;hệ, 30&amp;&amp;trước]</td>\n      <td>[20&amp;&amp;phần, 21&amp;&amp;cứng]</td>\n      <td>[16&amp;&amp;nâng, 17&amp;&amp;cấp, 18&amp;&amp;nhẹ]</td>\n      <td>COM+</td>\n    </tr>\n    <tr>\n      <th>2</th>\n      <td>iPhone 14 được ra mắt vào 09 / 2022, được đánh...</td>\n      <td>1</td>\n      <td>[1&amp;&amp;iPhone, 2&amp;&amp;14]</td>\n      <td>[28&amp;&amp;thế, 29&amp;&amp;hệ, 30&amp;&amp;trước]</td>\n      <td>[24&amp;&amp;phần, 25&amp;&amp;mềm]</td>\n      <td>[16&amp;&amp;nâng, 17&amp;&amp;cấp, 18&amp;&amp;nhẹ]</td>\n      <td>COM+</td>\n    </tr>\n    <tr>\n      <th>3</th>\n      <td>Về ngoại hình thì cũng có rất ít sự khác biệt ...</td>\n      <td>1</td>\n      <td>[]</td>\n      <td>[14&amp;&amp;thế, 15&amp;&amp;hệ, 16&amp;&amp;tiền, 17&amp;&amp;nhiệm]</td>\n      <td>[2&amp;&amp;ngoại, 3&amp;&amp;hình]</td>\n      <td>[7&amp;&amp;rất, 8&amp;&amp;ít, 9&amp;&amp;sự, 10&amp;&amp;khác, 11&amp;&amp;biệt]</td>\n      <td>EQL</td>\n    </tr>\n    <tr>\n      <th>12</th>\n      <td>Nhìn chung, về thiết kế của iPhone 14 thì khôn...</td>\n      <td>1</td>\n      <td>[8&amp;&amp;iPhone, 9&amp;&amp;14]</td>\n      <td>[26&amp;&amp;iPhone, 27&amp;&amp;13]</td>\n      <td>[5&amp;&amp;thiết, 6&amp;&amp;kế]</td>\n      <td>[11&amp;&amp;không, 12&amp;&amp;có, 13&amp;&amp;sự, 14&amp;&amp;khác, 15&amp;&amp;biệt...</td>\n      <td>EQL</td>\n    </tr>\n    <tr>\n      <th>16</th>\n      <td>Tương tự, thì hệ thống camera vẫn giữ nguyên t...</td>\n      <td>1</td>\n      <td>[5&amp;&amp;hệ, 6&amp;&amp;thống, 7&amp;&amp;camera]</td>\n      <td>[]</td>\n      <td>[11&amp;&amp;thiết, 12&amp;&amp;kế]</td>\n      <td>[9&amp;&amp;giữ, 10&amp;&amp;_nguyên]</td>\n      <td>EQL</td>\n    </tr>\n    <tr>\n      <th>...</th>\n      <td>...</td>\n      <td>...</td>\n      <td>...</td>\n      <td>...</td>\n      <td>...</td>\n      <td>...</td>\n      <td>...</td>\n    </tr>\n    <tr>\n      <th>4300</th>\n      <td>Mặc dù cả hai thiết bị đều sở hữu viên...</td>\n      <td>1</td>\n      <td>[4&amp;&amp;hai, 5&amp;&amp;thiết, 6&amp;&amp;bị]</td>\n      <td>[4&amp;&amp;hai, 5&amp;&amp;thiết, 6&amp;&amp;bị]</td>\n      <td>[10&amp;&amp;viên, 11&amp;&amp;pin, 12&amp;&amp;có, 13&amp;&amp;dung, 14&amp;&amp;lươ...</td>\n      <td>[7&amp;&amp;đều, 8&amp;&amp;sở, 9&amp;&amp;hữu]</td>\n      <td>EQL</td>\n    </tr>\n    <tr>\n      <th>4301</th>\n      <td>Mặc dù cả hai thiết bị đều sở hữu viên...</td>\n      <td>1</td>\n      <td>[4&amp;&amp;hai, 5&amp;&amp;thiết, 6&amp;&amp;bị]</td>\n      <td>[4&amp;&amp;hai, 5&amp;&amp;thiết, 6&amp;&amp;bị]</td>\n      <td>[19&amp;&amp;tuổi, 20&amp;&amp;thọ, 21&amp;&amp;pin]</td>\n      <td>[22&amp;&amp;có, 23&amp;&amp;sự, 24&amp;&amp;chênh, 25&amp;&amp;lệch, 26&amp;&amp;k...</td>\n      <td>DIF</td>\n    </tr>\n    <tr>\n      <th>4312</th>\n      <td>Tuy nhiên, sau hai giờ sử dụng thì điện t...</td>\n      <td>1</td>\n      <td>[12&amp;&amp;iPhone]</td>\n      <td>[]</td>\n      <td>[14&amp;&amp;kết, 15&amp;&amp;quả]</td>\n      <td>[16&amp;&amp;tốt, 17&amp;&amp;hơn]</td>\n      <td>COM+</td>\n    </tr>\n    <tr>\n      <th>4316</th>\n      <td>iPhone 14 Pro Max có thời lượng pin tốt hơ...</td>\n      <td>1</td>\n      <td>[1&amp;&amp;iPhone, 2&amp;&amp;14, 3&amp;&amp;Pro, 4&amp;&amp;Max]</td>\n      <td>[13&amp;&amp;đối, 14&amp;&amp;thủ]</td>\n      <td>[6&amp;&amp;thời, 7&amp;&amp;lượng, 8&amp;&amp;pin]</td>\n      <td>[9&amp;&amp;tốt, 10&amp;&amp;hơn]</td>\n      <td>COM+</td>\n    </tr>\n    <tr>\n      <th>4322</th>\n      <td>Tuy nhiên, một lưu ý rằng Google Pixel 7 Pr...</td>\n      <td>1</td>\n      <td>[8&amp;&amp;Google, 9&amp;&amp;Pixel, 10&amp;&amp;7, 11&amp;&amp;Pro]</td>\n      <td>[22&amp;&amp;các, 23&amp;&amp;đối, 24&amp;&amp;thủ, 25&amp;&amp;Android, 26...</td>\n      <td>[15&amp;&amp;hiệu, 16&amp;&amp;suất]</td>\n      <td>[17&amp;&amp;mạnh, 18&amp;&amp;mẽ, 19&amp;&amp;tương, 20&amp;&amp;tự]</td>\n      <td>EQL</td>\n    </tr>\n  </tbody>\n</table>\n<p>1084 rows × 7 columns</p>\n</div>"
     },
     "execution_count": 3,
     "metadata": {},
     "output_type": "execute_result"
    }
   ],
   "source": [
    "# data = pd.read_csv(curDir + \"//datasets//modified//preprocessed//VLSP23.csv\", index_col = \"Unnamed: 0\")\n",
    "# \n",
    "# for i in range(len(data)):\n",
    "#     # data.at[i, 'Input sentence'] = data.at[i, 'Input sentence'].replace('.', ' .')\n",
    "#     data.at[i, 'Input sentence'] = data.at[i, 'Input sentence'].replace('+', ' +')\n",
    "#     data.at[i, 'Input sentence'] = data.at[i, 'Input sentence'].replace('/', ' / ')\n",
    "#     data.at[i, 'Input sentence'] = data.at[i, 'Input sentence'].replace('(', ' ( ')\n",
    "#     data.at[i, 'Input sentence'] = data.at[i, 'Input sentence'].replace(')', ' ) ')\n",
    "#     # data.at[i, 'Input sentence'] = data.at[i, 'Input sentence'].replace('  ', ' ')\n",
    "#     data.at[i, 'Input sentence'] = data.at[i, 'Input sentence'].replace(' ', '   ')\n",
    "#     data.at[i, 'Input sentence'] = data.at[i, 'Input sentence'].replace('​', ' ​ ')\n",
    "#     data.at[i, 'Input sentence'] = data.at[i, 'Input sentence'].replace('@', ' @ ')\n",
    "#     data.at[i, 'Input sentence'] = data.at[i, 'Input sentence'].replace('%', ' % ')\n",
    "# \n",
    "#     data.at[i, 'subject'] =  segmentWordInList(ast.literal_eval(data.at[i, 'subject']))\n",
    "#     data.at[i, 'object'] =  segmentWordInList(ast.literal_eval(data.at[i, 'object']))\n",
    "#     data.at[i, 'aspect'] =  segmentWordInList(ast.literal_eval(data.at[i, 'aspect']))\n",
    "#     data.at[i, 'predicate'] =  segmentWordInList(ast.literal_eval(data.at[i, 'predicate']))\n",
    "# \n",
    "# dataSelected = data[data['isComparative'] == 1]\n",
    "# dataSelected"
   ],
   "metadata": {
    "collapsed": false,
    "ExecuteTime": {
     "end_time": "2023-10-06T18:11:48.484846400Z",
     "start_time": "2023-10-06T18:11:45.539114600Z"
    }
   },
   "id": "5bb4ae2142a74c3b"
  },
  {
   "cell_type": "code",
   "execution_count": 4,
   "outputs": [
    {
     "name": "stdout",
     "output_type": "stream",
     "text": [
      "1084\n"
     ]
    }
   ],
   "source": [
    "# sentenceSegmented = list(map(rdrSegmenter.word_segment, dataSelected['Input sentence']))\n",
    "# print(len(sentenceSegmented))\n",
    "# sentenceSegmentedConcat = np.concatenate(sentenceSegmented)"
   ],
   "metadata": {
    "collapsed": false,
    "ExecuteTime": {
     "end_time": "2023-10-06T18:11:51.738836300Z",
     "start_time": "2023-10-06T18:11:49.992293700Z"
    }
   },
   "id": "a6e29a229c057ee6"
  },
  {
   "cell_type": "code",
   "execution_count": 32,
   "outputs": [],
   "source": [
    "# labelNER = []\n",
    "# for i in range(len(sentenceSegmented)):\n",
    "# # for i in range(1):\n",
    "#     _, _, subj, obj, aspect, predicate, _ = dataSelected.iloc[i]\n",
    "#     # subj = ast.literal_eval(subj)\n",
    "#     # obj = ast.literal_eval(obj)\n",
    "#     # aspect = ast.literal_eval(aspect)\n",
    "#     # predicate = ast.literal_eval(predicate)\n",
    "#     count = 0\n",
    "#     for sentence in sentenceSegmented[i]:\n",
    "#         tempLabelNER = []\n",
    "#         for subSentence in sentence.split(\" \"):\n",
    "#             labelSet = set()\n",
    "#             for subSubSentence in subSentence.split(\"_\"):\n",
    "#                 count += 1\n",
    "#                 if (subSubSentence.count('.') > 0):\n",
    "#                     count += subSubSentence.count('.') - 1\n",
    "#                 if (subSubSentence.count(',') > 0):\n",
    "#                     count += subSubSentence.count(',') - 1\n",
    "#                 labelSet.add(checkInList(subj, obj, aspect, predicate, rdrSegmenter.word_segment(subSubSentence)[0], count, labelDict))\n",
    "#             if (len(labelSet) == 1):\n",
    "#                 tempLabelNER.append(labelSet.pop())\n",
    "#             elif ((len(labelSet) == 2) & (4 in labelSet)):\n",
    "#                 labelSet.remove(4)\n",
    "#                 tempLabelNER.append(labelSet.pop())\n",
    "#             else:\n",
    "#                 print('WARNING: PHRASE DIFFERENT LABEL!!')\n",
    "#                 tempLabelNER.append(labelDict['<noClass>'])\n",
    "#         labelNER.append(deepcopy(tempLabelNER))\n",
    "#         tempLabelNER.clear()    \n",
    "# labelNER = np.array(labelNER, dtype = list)"
   ],
   "metadata": {
    "collapsed": false,
    "ExecuteTime": {
     "end_time": "2023-10-06T18:23:39.731843600Z",
     "start_time": "2023-10-06T18:23:35.348028100Z"
    }
   },
   "id": "82e03e3b32cf563"
  },
  {
   "cell_type": "code",
   "execution_count": 14,
   "outputs": [],
   "source": [
    "# if (len(sentenceSegmentedConcat) != len(labelNER)):\n",
    "#     print('WARNING: DIFF TOTAL NO.LABELS AND TOTAL NO.SENTENCES')\n",
    "# else:\n",
    "#     for i in range(len(sentenceSegmentedConcat)):\n",
    "#     # for i in range(1):\n",
    "#         if (len(sentenceSegmentedConcat[i].split(' ')) != len(labelNER[i])):\n",
    "#             print('WARNING: DIFF NO.LABELS AND NO.SUBWORDS')"
   ],
   "metadata": {
    "collapsed": false,
    "ExecuteTime": {
     "end_time": "2023-10-02T10:12:48.637108100Z",
     "start_time": "2023-10-02T10:12:48.621463100Z"
    }
   },
   "id": "3c8d5f0ced40fea1"
  },
  {
   "cell_type": "code",
   "execution_count": 15,
   "outputs": [
    {
     "name": "stdout",
     "output_type": "stream",
     "text": [
      "Theo như công bố của Samsung thì thời_lượng pin của S23 Ultra đã tăng 20 % ​ ​ so với thế hệ tiền nhiệm .\n",
      "[4, 4, 4, 4, 4, 4, 4, 2, 2, 4, 0, 0, 4, 3, 3, 3, 4, 4, 4, 4, 1, 1, 1, 1, 4]\n",
      "%\n",
      "3\n"
     ]
    }
   ],
   "source": [
    "# ind = 171\n",
    "# subInd = 15\n",
    "# print(sentenceSegmentedConcat[ind])\n",
    "# print(labelNER[ind])\n",
    "# print(sentenceSegmentedConcat[ind].split(' ')[subInd])\n",
    "# print(labelNER[ind][subInd])"
   ],
   "metadata": {
    "collapsed": false,
    "ExecuteTime": {
     "end_time": "2023-10-02T10:12:51.827064700Z",
     "start_time": "2023-10-02T10:12:51.811436400Z"
    }
   },
   "id": "827c77e69c6ecd51"
  },
  {
   "cell_type": "code",
   "execution_count": 16,
   "outputs": [],
   "source": [
    "# myData = pd.DataFrame(list(zip(sentenceSegmentedConcat, labelNER)), \n",
    "#                       columns = ['Input sentence segmented', 'labelNER'])"
   ],
   "metadata": {
    "collapsed": false,
    "ExecuteTime": {
     "end_time": "2023-10-02T10:12:55.359352800Z",
     "start_time": "2023-10-02T10:12:55.327915900Z"
    }
   },
   "id": "4dc10896dfbe6946"
  },
  {
   "cell_type": "code",
   "execution_count": 17,
   "outputs": [],
   "source": [
    "# myData.to_csv(r\"C:\\Users\\nguye\\Downloads\\VLSP23_NER.csv\")"
   ],
   "metadata": {
    "collapsed": false,
    "ExecuteTime": {
     "end_time": "2023-10-02T10:12:57.402315900Z",
     "start_time": "2023-10-02T10:12:57.370971100Z"
    }
   },
   "id": "c3a6eba83668a66a"
  },
  {
   "cell_type": "markdown",
   "source": [],
   "metadata": {
    "collapsed": false
   },
   "id": "9ff0d084f4e70d33"
  }
 ],
 "metadata": {
  "kernelspec": {
   "display_name": "Python 3",
   "language": "python",
   "name": "python3"
  },
  "language_info": {
   "codemirror_mode": {
    "name": "ipython",
    "version": 2
   },
   "file_extension": ".py",
   "mimetype": "text/x-python",
   "name": "python",
   "nbconvert_exporter": "python",
   "pygments_lexer": "ipython2",
   "version": "2.7.6"
  }
 },
 "nbformat": 4,
 "nbformat_minor": 5
}

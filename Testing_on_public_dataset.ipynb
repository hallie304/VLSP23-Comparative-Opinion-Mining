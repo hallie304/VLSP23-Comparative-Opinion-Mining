{
  "nbformat": 4,
  "nbformat_minor": 0,
  "metadata": {
    "colab": {
      "provenance": [],
      "gpuType": "T4"
    },
    "kernelspec": {
      "name": "python3",
      "display_name": "Python 3"
    },
    "language_info": {
      "name": "python"
    },
    "accelerator": "GPU"
  },
  "cells": [
    {
      "cell_type": "code",
      "execution_count": null,
      "metadata": {
        "colab": {
          "base_uri": "https://localhost:8080/"
        },
        "id": "XQLmsu3QWbUE",
        "outputId": "30b1f777-97c9-4189-ffb5-fe80efc6509e"
      },
      "outputs": [
        {
          "output_type": "stream",
          "name": "stdout",
          "text": [
            "Drive already mounted at /content/drive; to attempt to forcibly remount, call drive.mount(\"/content/drive\", force_remount=True).\n"
          ]
        }
      ],
      "source": [
        "from google.colab import drive\n",
        "drive.mount('/content/drive')"
      ]
    },
    {
      "cell_type": "code",
      "source": [
        "!pip3 install transformers"
      ],
      "metadata": {
        "colab": {
          "base_uri": "https://localhost:8080/"
        },
        "id": "9pNiRHl9jsZk",
        "outputId": "538a73bb-afd1-4a53-de36-3b4829182142"
      },
      "execution_count": null,
      "outputs": [
        {
          "output_type": "stream",
          "name": "stdout",
          "text": [
            "Requirement already satisfied: transformers in /usr/local/lib/python3.10/dist-packages (4.34.0)\n",
            "Requirement already satisfied: filelock in /usr/local/lib/python3.10/dist-packages (from transformers) (3.12.4)\n",
            "Requirement already satisfied: huggingface-hub<1.0,>=0.16.4 in /usr/local/lib/python3.10/dist-packages (from transformers) (0.17.3)\n",
            "Requirement already satisfied: numpy>=1.17 in /usr/local/lib/python3.10/dist-packages (from transformers) (1.23.5)\n",
            "Requirement already satisfied: packaging>=20.0 in /usr/local/lib/python3.10/dist-packages (from transformers) (23.2)\n",
            "Requirement already satisfied: pyyaml>=5.1 in /usr/local/lib/python3.10/dist-packages (from transformers) (6.0.1)\n",
            "Requirement already satisfied: regex!=2019.12.17 in /usr/local/lib/python3.10/dist-packages (from transformers) (2023.6.3)\n",
            "Requirement already satisfied: requests in /usr/local/lib/python3.10/dist-packages (from transformers) (2.31.0)\n",
            "Requirement already satisfied: tokenizers<0.15,>=0.14 in /usr/local/lib/python3.10/dist-packages (from transformers) (0.14.1)\n",
            "Requirement already satisfied: safetensors>=0.3.1 in /usr/local/lib/python3.10/dist-packages (from transformers) (0.4.0)\n",
            "Requirement already satisfied: tqdm>=4.27 in /usr/local/lib/python3.10/dist-packages (from transformers) (4.66.1)\n",
            "Requirement already satisfied: fsspec in /usr/local/lib/python3.10/dist-packages (from huggingface-hub<1.0,>=0.16.4->transformers) (2023.6.0)\n",
            "Requirement already satisfied: typing-extensions>=3.7.4.3 in /usr/local/lib/python3.10/dist-packages (from huggingface-hub<1.0,>=0.16.4->transformers) (4.5.0)\n",
            "Requirement already satisfied: charset-normalizer<4,>=2 in /usr/local/lib/python3.10/dist-packages (from requests->transformers) (3.3.0)\n",
            "Requirement already satisfied: idna<4,>=2.5 in /usr/local/lib/python3.10/dist-packages (from requests->transformers) (3.4)\n",
            "Requirement already satisfied: urllib3<3,>=1.21.1 in /usr/local/lib/python3.10/dist-packages (from requests->transformers) (2.0.6)\n",
            "Requirement already satisfied: certifi>=2017.4.17 in /usr/local/lib/python3.10/dist-packages (from requests->transformers) (2023.7.22)\n"
          ]
        }
      ]
    },
    {
      "cell_type": "code",
      "source": [
        "from transformers import pipeline, AutoTokenizer, AutoModelForSequenceClassification, AutoModelForTokenClassification\n",
        "tokenizer1 = AutoTokenizer.from_pretrained(\"vinai/phobert-base-v2\", use_fast = True)"
      ],
      "metadata": {
        "id": "fbNRuwK9jx8S"
      },
      "execution_count": null,
      "outputs": []
    },
    {
      "cell_type": "code",
      "source": [
        "from transformers import AutoTokenizer\n",
        "tokenizer2 = AutoTokenizer.from_pretrained(\"bert-base-multilingual-cased\", use_fast = True)"
      ],
      "metadata": {
        "id": "v5TahIHGAitJ"
      },
      "execution_count": null,
      "outputs": []
    },
    {
      "cell_type": "code",
      "source": [
        "model1 = AutoModelForSequenceClassification.from_pretrained('/content/drive/MyDrive/VLSP23/Data/HH/baseline_models/test_bert_task1')\n",
        "nlp1 = pipeline(\"sentiment-analysis\", model = model1, tokenizer = tokenizer1)\n",
        "model2 = AutoModelForTokenClassification.from_pretrained('/content/drive/MyDrive/VLSP23/Data/HH/baseline_models/test_bert_ner2')\n",
        "nlp2 = pipeline(\"token-classification\", model = model2, tokenizer = tokenizer2)\n",
        "model3 = AutoModelForSequenceClassification.from_pretrained('/content/drive/MyDrive/VLSP23/Data/HH/baseline_models/test_bert_task3')\n",
        "nlp3 = pipeline(\"sentiment-analysis\", model = model3, tokenizer = tokenizer1)"
      ],
      "metadata": {
        "id": "37S79nLqkHAf"
      },
      "execution_count": null,
      "outputs": []
    },
    {
      "cell_type": "code",
      "source": [
        "def post_process(tokens):\n",
        "    post_process_text = \"\"\n",
        "    for token in tokens:\n",
        "        if not token.startswith(\"##\"):\n",
        "            post_process_text += \" \"\n",
        "\n",
        "        post_process_text += token.lstrip(\"##\")\n",
        "\n",
        "    return post_process_text.lstrip()\n"
      ],
      "metadata": {
        "id": "0_7WJRdWzXeu"
      },
      "execution_count": null,
      "outputs": []
    },
    {
      "cell_type": "markdown",
      "source": [
        "# Output"
      ],
      "metadata": {
        "id": "8g2QdT8Np7se"
      }
    },
    {
      "cell_type": "code",
      "source": [
        "with open('/content/drive/MyDrive/VLSP23/Data/HH/baseline_models/submission/output/dev_0001.txt', 'w') as output_file:\n",
        "    with open('/content/drive/MyDrive/VLSP23/Data/HH/baseline_models/submission/original public dataset/VLSP2023_ComOM_public_test_nolabel/dev_0001.txt', 'r') as input_file:\n",
        "        lines = input_file.readlines()\n",
        "\n",
        "    for line in lines:\n",
        "        sentences = line.split('\\t')\n",
        "        if len(sentences) >= 2:\n",
        "            output_file.write(sentences[0].strip() + '\\n')"
      ],
      "metadata": {
        "id": "5J5gpNjrhujx"
      },
      "execution_count": null,
      "outputs": []
    },
    {
      "cell_type": "code",
      "source": [
        "comparative = []\n",
        "task2 = []\n",
        "input_file = '/content/drive/MyDrive/VLSP23/Data/HH/baseline_models/submission/output/dev_0001.txt'\n",
        "with open(input_file, 'r') as input_file:\n",
        "  lines = input_file.readlines()\n",
        "  for line in lines:\n",
        "    comparative.append(nlp1(line))\n",
        "for i, line in enumerate(lines):\n",
        "    label = comparative[i][0]['label']\n",
        "    if label == 'Comparative':\n",
        "        task2.append(line)"
      ],
      "metadata": {
        "id": "b7b4IdF2kiOh"
      },
      "execution_count": null,
      "outputs": []
    },
    {
      "cell_type": "code",
      "source": [
        "ner = []\n",
        "for sentence in task2:\n",
        "    ner.append(nlp2(sentence))"
      ],
      "metadata": {
        "id": "PWVakW_trVkU"
      },
      "execution_count": null,
      "outputs": []
    },
    {
      "cell_type": "code",
      "source": [
        "preference = []\n",
        "for sentence in task2:\n",
        "    preference.append(nlp3(sentence))"
      ],
      "metadata": {
        "id": "deJSrWZxBUOx"
      },
      "execution_count": null,
      "outputs": []
    },
    {
      "cell_type": "code",
      "source": [
        "def post_process(tokens, entities):\n",
        "    post_process_text = \"\"\n",
        "    entity = []\n",
        "    idx = 0\n",
        "    for token in tokens:\n",
        "        if not token.startswith(\"##\"):\n",
        "            post_process_text += \" \"\n",
        "            entity.append(entities[idx])\n",
        "        post_process_text += token.lstrip(\"##\")\n",
        "        idx += 1\n",
        "    return post_process_text.lstrip(), entity"
      ],
      "metadata": {
        "id": "-cUGXaHu30sH"
      },
      "execution_count": null,
      "outputs": []
    },
    {
      "cell_type": "code",
      "source": [
        "import json\n",
        "ner_post_processed = []\n",
        "for token_list in ner:\n",
        "    tokens = [token['word'] for token in token_list]\n",
        "    entities = [token['entity'] for token in token_list]\n",
        "\n",
        "    post_processed_text,entity = post_process(tokens,entities)\n",
        "    post_processed_words = post_processed_text.split()\n",
        "\n",
        "    result_list = [{'entity': entity[i], 'index': i + 1, 'word': post_processed_words[i]} for i in range(len(post_processed_words))]\n",
        "    ner_post_processed.append(result_list)"
      ],
      "metadata": {
        "id": "ybaErghW9dC3"
      },
      "execution_count": null,
      "outputs": []
    },
    {
      "cell_type": "code",
      "source": [
        "import json\n",
        "\n",
        "json.dumps({'entity': 'LABEL_0', 'index': 14, 'word': 'và'}, ensure_ascii = False, indent=None)"
      ],
      "metadata": {
        "colab": {
          "base_uri": "https://localhost:8080/",
          "height": 35
        },
        "id": "LJWiI3U5BJQ3",
        "outputId": "1ecff834-28d6-457d-d645-ad6f2eac75a7"
      },
      "execution_count": null,
      "outputs": [
        {
          "output_type": "execute_result",
          "data": {
            "text/plain": [
              "'{\"entity\": \"LABEL_0\", \"index\": 14, \"word\": \"và\"}'"
            ],
            "application/vnd.google.colaboratory.intrinsic+json": {
              "type": "string"
            }
          },
          "metadata": {},
          "execution_count": 383
        }
      ]
    },
    {
      "cell_type": "code",
      "source": [
        "input_file_path = '/content/drive/MyDrive/VLSP23/Data/HH/baseline_models/submission/output/dev_0001.txt'\n",
        "output_file_path = '/content/drive/MyDrive/VLSP23/Data/HH/baseline_models/submission/output/dev_0001.txt'\n",
        "task2 = []\n",
        "\n",
        "with open(input_file_path, 'r') as input_file:\n",
        "    lines = input_file.readlines()\n",
        "idx = 0\n",
        "\n",
        "with open(output_file_path, 'w') as output_file:\n",
        "    for i, line in enumerate(lines):\n",
        "        label = comparative[i][0]['label']\n",
        "        if label == 'Comparative':\n",
        "            task2.append(line)\n",
        "            quintuple = {\"subject\": [], \"object\": [], \"aspect\": [], \"predicate\": [], \"label\": \"\"}\n",
        "            for tag in ner_post_processed[idx]:\n",
        "                entity = tag['entity']\n",
        "                index = tag['index']\n",
        "                word = tag['word']\n",
        "                quintuple['label'] = preference[idx][0]['label']\n",
        "                if entity in ['LABEL_1', 'LABEL_2']:\n",
        "                    quintuple['subject'].append(f\"{index}&&{word}\")\n",
        "                elif entity in ['LABEL_3', 'LABEL_4']:\n",
        "                    quintuple['object'].append(f\"{index}&&{word}\")\n",
        "                elif entity in ['LABEL_5', 'LABEL_6']:\n",
        "                    quintuple['aspect'].append(f\"{index}&&{word}\")\n",
        "                elif entity in ['LABEL_7', 'LABEL_8']:\n",
        "                    quintuple['predicate'].append(f\"{index}&&{word}\")\n",
        "            quintuple = json.dumps(quintuple, ensure_ascii = False)\n",
        "            modified_line = f\"{line.strip()}\\n{quintuple}\\n\\n\"\n",
        "            idx += 1\n",
        "        else:\n",
        "            modified_line = f\"{line.strip()}\\n\\n\"\n",
        "        output_file.write(modified_line)\n"
      ],
      "metadata": {
        "id": "HJcSLl4SQoAn"
      },
      "execution_count": null,
      "outputs": []
    },
    {
      "cell_type": "code",
      "source": [
        "file_names = ['/content/drive/MyDrive/VLSP23/Data/HH/dev/dev_{:04d}_modified.txt'.format(i) for i in range(1, 25)]\n",
        "# file_names = '/content/drive/MyDrive/VLSP23/Data/HH/dev/dev_0004_modified.txt'\n",
        "output_file_path = '/content/drive/MyDrive/VLSP23/Data/HH/dev/output_count.txt'\n",
        "\n",
        "sentence_count = 0\n",
        "with open(output_file_path, 'w') as output_file:\n",
        "  for file_name in file_names:\n",
        "      with open(file_name, 'r') as input_file:\n",
        "          lines = input_file.readlines()\n",
        "\n",
        "      for line in lines:\n",
        "          if line.strip() and not line.strip().startswith('{') and line != '\\n':\n",
        "              sentence_count += 1\n",
        "\n",
        "              output_file.write(line)\n",
        "\n",
        "print(\"Total sentences:\", sentence_count)\n"
      ],
      "metadata": {
        "colab": {
          "base_uri": "https://localhost:8080/"
        },
        "id": "PQWHnznRT8xt",
        "outputId": "b029b9b3-f4b6-4a94-dd5f-040d412b1683"
      },
      "execution_count": null,
      "outputs": [
        {
          "output_type": "stream",
          "name": "stdout",
          "text": [
            "Total sentences: 1732\n"
          ]
        }
      ]
    },
    {
      "cell_type": "code",
      "source": [
        "file_names = ['/content/drive/MyDrive/VLSP23/Data/HH/dev/dev_{:04d}.txt'.format(i) for i in range(1, 25)]\n",
        "output_file_path = '/content/drive/MyDrive/VLSP23/Data/HH/dev/output_count.txt'\n",
        "\n",
        "sentence_count = 0\n",
        "with open(output_file_path, 'w') as output_file:\n",
        "  for file_name in file_names:\n",
        "      with open(file_name, 'r') as input_file:\n",
        "          lines = input_file.readlines()\n",
        "\n",
        "      for line in lines:\n",
        "          sentences = line.split('\\t')\n",
        "\n",
        "          if len(sentences) >= 2 and not line.endswith(\"\\t\\xa0\\n\"):\n",
        "              sentence_count += 1\n",
        "              output_file.write(sentences[0].strip() + '\\n')\n",
        "\n",
        "print(\"Total sentences:\", sentence_count)\n"
      ],
      "metadata": {
        "colab": {
          "base_uri": "https://localhost:8080/"
        },
        "id": "pxPPZqaT-NDP",
        "outputId": "a7518363-2050-4884-c1e9-08284cc4965e"
      },
      "execution_count": null,
      "outputs": [
        {
          "output_type": "stream",
          "name": "stdout",
          "text": [
            "Total sentences: 1732\n"
          ]
        }
      ]
    },
    {
      "cell_type": "code",
      "source": [
        "def post_process_for_ner(output, single=False):\n",
        "    '''\n",
        "\n",
        "    '''\n",
        "    # Append to previous word\n",
        "    result = []\n",
        "    prev_entity = copy.copy(output[0])\n",
        "    index = 1\n",
        "    for entity in output[1:]:\n",
        "        if \"##\" in entity[\"word\"]:\n",
        "            mod_word = entity[\"word\"].replace(\"##\", \"\")\n",
        "            prev_entity[\"word\"] += mod_word\n",
        "            if prev_entity[\"entity\"] != entity[\"entity\"]:\n",
        "                if single:\n",
        "                    prev_entity[\"entity\"] = copy.copy(prev_entity[\"entity\"] if prev_entity[\"score\"]>entity[\"score\"] else entity[\"entity\"])\n",
        "                    prev_entity[\"score\"] = copy.copy(max(prev_entity[\"score\"], entity[\"score\"]))\n",
        "                else:\n",
        "                    prev_entity[\"entity\"] = copy.copy([prev_entity[\"entity\"], entity[\"entity\"]])\n",
        "                    prev_entity[\"score\"] = copy.copy([prev_entity[\"score\"], entity[\"score\"]])\n",
        "        else:\n",
        "            prev_entity[\"index\"] = index\n",
        "            index += 1\n",
        "            result.append(copy.copy(prev_entity))\n",
        "            prev_entity = entity\n",
        "\n",
        "    result.append(prev_entity)\n",
        "    return result"
      ],
      "metadata": {
        "id": "QVUJwjVJDG4M"
      },
      "execution_count": null,
      "outputs": []
    }
  ]
}
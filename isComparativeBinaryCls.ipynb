{
 "cells": [
  {
   "cell_type": "code",
   "execution_count": 1,
   "outputs": [
    {
     "name": "stderr",
     "output_type": "stream",
     "text": [
      "Special tokens have been added in the vocabulary, make sure the associated word embeddings are fine-tuned or trained.\n",
      "Some weights of BertModel were not initialized from the model checkpoint at undertheseanlp/vietnamese-ner-v1.4.0a2 and are newly initialized: ['bert.pooler.dense.bias', 'bert.pooler.dense.weight']\n",
      "You should probably TRAIN this model on a down-stream task to be able to use it for predictions and inference.\n"
     ]
    }
   ],
   "source": [
    "import pandas as pd\n",
    "\n",
    "from libsAndPackages import *"
   ],
   "metadata": {
    "collapsed": false,
    "ExecuteTime": {
     "end_time": "2023-10-01T07:57:53.094189Z",
     "start_time": "2023-10-01T07:57:36.528239300Z"
    }
   },
   "id": "5804e70801b101b4"
  },
  {
   "cell_type": "markdown",
   "source": [
    "# isComparative binary classification"
   ],
   "metadata": {
    "collapsed": false
   },
   "id": "13df24f3a7601e40"
  },
  {
   "cell_type": "code",
   "execution_count": 3,
   "outputs": [
    {
     "data": {
      "text/plain": "                                         Input sentence  isComparative\n0     Title: Review iPhone 14: Thiết kế, hiệu năng, ...              0\n1     iPhone 14 được ra mắt vào 09/2022, được đánh g...              1\n2     Về ngoại hình thì cũng có rất ít sự khác biệt ...              1\n3     Có một vài ý kiến trái chiều cho rằng, phiên b...              0\n4     Thực tế khi mua hoặc nâng cấp một thiết bị di ...              0\n...                                                 ...            ...\n3432    Trong khi trên iPhone 14 Pro Max vẫn còn 21%.              0\n3433  Kết quả cho thấy model của Apple có thể ...              0\n3434  Đối thủ của iPhone 14 Pro Max - Pixel 7 Pro...              0\n3435  Tuy nhiên, một lưu ý rằng Google Pixel 7 Pr...              1\n3436  Có vẻ như, Apple đã tối ưu khá tốt giữa...              0\n\n[3437 rows x 2 columns]",
      "text/html": "<div>\n<style scoped>\n    .dataframe tbody tr th:only-of-type {\n        vertical-align: middle;\n    }\n\n    .dataframe tbody tr th {\n        vertical-align: top;\n    }\n\n    .dataframe thead th {\n        text-align: right;\n    }\n</style>\n<table border=\"1\" class=\"dataframe\">\n  <thead>\n    <tr style=\"text-align: right;\">\n      <th></th>\n      <th>Input sentence</th>\n      <th>isComparative</th>\n    </tr>\n  </thead>\n  <tbody>\n    <tr>\n      <th>0</th>\n      <td>Title: Review iPhone 14: Thiết kế, hiệu năng, ...</td>\n      <td>0</td>\n    </tr>\n    <tr>\n      <th>1</th>\n      <td>iPhone 14 được ra mắt vào 09/2022, được đánh g...</td>\n      <td>1</td>\n    </tr>\n    <tr>\n      <th>2</th>\n      <td>Về ngoại hình thì cũng có rất ít sự khác biệt ...</td>\n      <td>1</td>\n    </tr>\n    <tr>\n      <th>3</th>\n      <td>Có một vài ý kiến trái chiều cho rằng, phiên b...</td>\n      <td>0</td>\n    </tr>\n    <tr>\n      <th>4</th>\n      <td>Thực tế khi mua hoặc nâng cấp một thiết bị di ...</td>\n      <td>0</td>\n    </tr>\n    <tr>\n      <th>...</th>\n      <td>...</td>\n      <td>...</td>\n    </tr>\n    <tr>\n      <th>3432</th>\n      <td>Trong khi trên iPhone 14 Pro Max vẫn còn 21%.</td>\n      <td>0</td>\n    </tr>\n    <tr>\n      <th>3433</th>\n      <td>Kết quả cho thấy model của Apple có thể ...</td>\n      <td>0</td>\n    </tr>\n    <tr>\n      <th>3434</th>\n      <td>Đối thủ của iPhone 14 Pro Max - Pixel 7 Pro...</td>\n      <td>0</td>\n    </tr>\n    <tr>\n      <th>3435</th>\n      <td>Tuy nhiên, một lưu ý rằng Google Pixel 7 Pr...</td>\n      <td>1</td>\n    </tr>\n    <tr>\n      <th>3436</th>\n      <td>Có vẻ như, Apple đã tối ưu khá tốt giữa...</td>\n      <td>0</td>\n    </tr>\n  </tbody>\n</table>\n<p>3437 rows × 2 columns</p>\n</div>"
     },
     "execution_count": 3,
     "metadata": {},
     "output_type": "execute_result"
    }
   ],
   "source": [
    "isComparativeData = pd.read_csv(curDir + \"//datasets//modified//preprocessed//VLSP23_isComparative.csv\", index_col = 'Unnamed: 0')\n",
    "isComparativeData = isComparativeData.reset_index(drop = True)\n",
    "isComparativeData"
   ],
   "metadata": {
    "collapsed": false,
    "ExecuteTime": {
     "end_time": "2023-10-01T07:58:22.458664900Z",
     "start_time": "2023-10-01T07:58:22.327907200Z"
    }
   },
   "id": "7d3bab6e06891fab"
  },
  {
   "cell_type": "code",
   "execution_count": 4,
   "outputs": [
    {
     "data": {
      "text/plain": "0    2640\n1     797\nName: isComparative, dtype: int64"
     },
     "execution_count": 4,
     "metadata": {},
     "output_type": "execute_result"
    }
   ],
   "source": [
    "isComparativeData['isComparative'].value_counts()"
   ],
   "metadata": {
    "collapsed": false,
    "ExecuteTime": {
     "end_time": "2023-10-01T07:58:25.283297Z",
     "start_time": "2023-10-01T07:58:25.267671900Z"
    }
   },
   "id": "e71376ed05e3e9b0"
  },
  {
   "cell_type": "code",
   "execution_count": 5,
   "outputs": [
    {
     "name": "stderr",
     "output_type": "stream",
     "text": [
      "C:\\Users\\nguye\\AppData\\Local\\Temp\\ipykernel_21892\\3315150353.py:2: VisibleDeprecationWarning: Creating an ndarray from ragged nested sequences (which is a list-or-tuple of lists-or-tuples-or ndarrays with different lengths or shapes) is deprecated. If you meant to do this, you must specify 'dtype=object' when creating the ndarray.\n",
      "  xDataLowercaseSegmented = np.array([rdrSegmenter.word_segment(text) for text in xDataLowercase])\n",
      "C:\\Users\\nguye\\AppData\\Local\\Temp\\ipykernel_21892\\3315150353.py:3: VisibleDeprecationWarning: Creating an ndarray from ragged nested sequences (which is a list-or-tuple of lists-or-tuples-or ndarrays with different lengths or shapes) is deprecated. If you meant to do this, you must specify 'dtype=object' when creating the ndarray.\n",
      "  xDataSegmented = np.array([rdrSegmenter.word_segment(text) for text in isComparativeData['Input sentence']])\n"
     ]
    }
   ],
   "source": [
    "xDataLowercase = np.array([text.lower() for text in isComparativeData['Input sentence']])\n",
    "xDataLowercaseSegmented = np.array([rdrSegmenter.word_segment(text) for text in xDataLowercase])\n",
    "xDataSegmented = np.array([rdrSegmenter.word_segment(text) for text in isComparativeData['Input sentence']])\n",
    "\n",
    "yData = isComparativeData['isComparative']"
   ],
   "metadata": {
    "collapsed": false,
    "ExecuteTime": {
     "end_time": "2023-10-01T07:58:36.796498900Z",
     "start_time": "2023-10-01T07:58:33.078780900Z"
    }
   },
   "id": "dbc99c31601c2978"
  },
  {
   "cell_type": "code",
   "execution_count": 6,
   "outputs": [
    {
     "name": "stderr",
     "output_type": "stream",
     "text": [
      "C:\\Users\\nguye\\AppData\\Local\\Temp\\ipykernel_21892\\2073613290.py:4: VisibleDeprecationWarning: Creating an ndarray from ragged nested sequences (which is a list-or-tuple of lists-or-tuples-or ndarrays with different lengths or shapes) is deprecated. If you meant to do this, you must specify 'dtype=object' when creating the ndarray.\n",
      "  yDataForTokenize = np.array(yDataForSegmented)\n"
     ]
    }
   ],
   "source": [
    "yDataForSegmented = []\n",
    "for i in range(xDataSegmented.shape[0]):\n",
    "    yDataForSegmented.append([yData[i] for _ in range(len(xDataSegmented[i]))])\n",
    "yDataForTokenize = np.array(yDataForSegmented)"
   ],
   "metadata": {
    "collapsed": false,
    "ExecuteTime": {
     "end_time": "2023-10-01T07:58:40.870172400Z",
     "start_time": "2023-10-01T07:58:40.838919600Z"
    }
   },
   "id": "8cf1c223ad8f6d7c"
  },
  {
   "cell_type": "code",
   "execution_count": 7,
   "outputs": [],
   "source": [
    "xDataLowercaseSegmented = np.concatenate(xDataLowercaseSegmented)\n",
    "xDataSegmented = np.concatenate(xDataSegmented)\n",
    "yDataForSegmented = np.concatenate((yDataForSegmented))"
   ],
   "metadata": {
    "collapsed": false,
    "ExecuteTime": {
     "end_time": "2023-10-01T07:58:44.179323100Z",
     "start_time": "2023-10-01T07:58:44.132561500Z"
    }
   },
   "id": "b0ccd6d3705c3bef"
  },
  {
   "cell_type": "code",
   "execution_count": 8,
   "outputs": [
    {
     "data": {
      "text/plain": "<3485x3000 sparse matrix of type '<class 'numpy.float64'>'\n\twith 51459 stored elements in Compressed Sparse Row format>"
     },
     "execution_count": 8,
     "metadata": {},
     "output_type": "execute_result"
    }
   ],
   "source": [
    "tfidfVectorizer = TfidfVectorizer(max_features = 3000, sublinear_tf = True)\n",
    "xDataSegmentedVectorized = tfidfVectorizer.fit_transform(xDataSegmented)\n",
    "xDataSegmentedVectorized"
   ],
   "metadata": {
    "collapsed": false,
    "ExecuteTime": {
     "end_time": "2023-10-01T07:58:54.598915700Z",
     "start_time": "2023-10-01T07:58:54.499164Z"
    }
   },
   "id": "36f9ab89fb5b79de"
  },
  {
   "cell_type": "code",
   "execution_count": 9,
   "outputs": [],
   "source": [
    "xDataSegmentedTokenized = phobertTokenizer(text = list(xDataSegmented), is_split_into_words = False, padding = True)\n",
    "\n",
    "xDataSegmentedPhoBERTFeature = []\n",
    "with torch.no_grad():\n",
    "    for i in range(len(xDataSegmentedTokenized.input_ids)):\n",
    "        xDataSegmentedPhoBERTFeature.append(phobertFeatureExtractor(\n",
    "            input_ids = torch.unsqueeze(torch.tensor(xDataSegmentedTokenized['input_ids'][i]), 0),\n",
    "            token_type_ids = torch.unsqueeze(torch.tensor(xDataSegmentedTokenized['token_type_ids'][i]), 0),\n",
    "            attention_mask = torch.unsqueeze(torch.tensor(xDataSegmentedTokenized['attention_mask'][i]), 0)\n",
    "        )['pooler_output'])"
   ],
   "metadata": {
    "collapsed": false,
    "ExecuteTime": {
     "end_time": "2023-10-01T08:11:34.339821600Z",
     "start_time": "2023-10-01T07:59:26.120482400Z"
    }
   },
   "id": "3e699b3c5421bf03"
  },
  {
   "cell_type": "code",
   "execution_count": 10,
   "outputs": [],
   "source": [
    "xDataSegmentedPhoBERTFeatureTensor = torch.concat(xDataSegmentedPhoBERTFeature)"
   ],
   "metadata": {
    "collapsed": false,
    "ExecuteTime": {
     "end_time": "2023-10-01T08:12:29.054986600Z",
     "start_time": "2023-10-01T08:12:29.023709600Z"
    }
   },
   "id": "973764708a46754b"
  },
  {
   "cell_type": "code",
   "execution_count": 12,
   "outputs": [],
   "source": [
    "# pd.DataFrame(xDataSegmentedPhoBERTFeatureTensor.numpy()).to_csv(r\"C:\\Users\\nguye\\Downloads\\VLSP23_xDataSegmentedPhoBERTFeature.csv\")"
   ],
   "metadata": {
    "collapsed": false,
    "ExecuteTime": {
     "end_time": "2023-10-01T08:14:08.383828300Z",
     "start_time": "2023-10-01T08:14:06.145623200Z"
    }
   },
   "id": "a5f1afd313ee210e"
  },
  {
   "cell_type": "markdown",
   "source": [
    "## Split"
   ],
   "metadata": {
    "collapsed": false
   },
   "id": "3b634b3334ddc85d"
  },
  {
   "cell_type": "code",
   "execution_count": 13,
   "outputs": [
    {
     "name": "stdout",
     "output_type": "stream",
     "text": [
      "XTrain shape = torch.Size([2788, 768]), yTrain shape = (2788,)\n",
      "XTest shape = torch.Size([697, 768]), yTest shape = (697,)\n"
     ]
    }
   ],
   "source": [
    "X_train, X_test, y_train, y_test = train_test_split(xDataSegmentedPhoBERTFeatureTensor, yDataForSegmented, test_size = 0.2, random_state = 10, shuffle = True)\n",
    "print(\"XTrain shape = %s, yTrain shape = %s\" % (X_train.shape, y_train.shape))\n",
    "print(\"XTest shape = %s, yTest shape = %s\" % (X_test.shape, y_test.shape))"
   ],
   "metadata": {
    "collapsed": false,
    "ExecuteTime": {
     "end_time": "2023-10-01T08:14:33.960454900Z",
     "start_time": "2023-10-01T08:14:33.929342Z"
    }
   },
   "id": "ab85bfc5058b92a3"
  },
  {
   "cell_type": "code",
   "execution_count": 14,
   "outputs": [
    {
     "data": {
      "text/plain": "0    2138\n1     650\ndtype: int64"
     },
     "execution_count": 14,
     "metadata": {},
     "output_type": "execute_result"
    }
   ],
   "source": [
    "pd.Series(y_train).value_counts()"
   ],
   "metadata": {
    "collapsed": false,
    "ExecuteTime": {
     "end_time": "2023-10-01T08:14:36.760561300Z",
     "start_time": "2023-10-01T08:14:36.744863600Z"
    }
   },
   "id": "c7684474729c0ca5"
  },
  {
   "cell_type": "markdown",
   "source": [
    "## Modeling"
   ],
   "metadata": {
    "collapsed": false
   },
   "id": "18e5cd7cb6268665"
  },
  {
   "cell_type": "markdown",
   "source": [
    "### LogReg"
   ],
   "metadata": {
    "collapsed": false
   },
   "id": "88b25fba0615d1fd"
  },
  {
   "cell_type": "code",
   "execution_count": 15,
   "outputs": [
    {
     "name": "stdout",
     "output_type": "stream",
     "text": [
      "On training set:\n",
      "              precision    recall  f1-score   support\n",
      "\n",
      "           0       0.91      0.96      0.94      2138\n",
      "           1       0.85      0.70      0.77       650\n",
      "\n",
      "    accuracy                           0.90      2788\n",
      "   macro avg       0.88      0.83      0.85      2788\n",
      "weighted avg       0.90      0.90      0.90      2788\n",
      "\n",
      "On test set:\n",
      "              precision    recall  f1-score   support\n",
      "\n",
      "           0       0.88      0.95      0.91       532\n",
      "           1       0.78      0.58      0.67       165\n",
      "\n",
      "    accuracy                           0.86       697\n",
      "   macro avg       0.83      0.77      0.79       697\n",
      "weighted avg       0.86      0.86      0.85       697\n"
     ]
    },
    {
     "name": "stderr",
     "output_type": "stream",
     "text": [
      "C:\\Users\\nguye\\AppData\\Local\\Programs\\Python\\Python310\\lib\\site-packages\\sklearn\\linear_model\\_logistic.py:458: ConvergenceWarning: lbfgs failed to converge (status=1):\n",
      "STOP: TOTAL NO. of ITERATIONS REACHED LIMIT.\n",
      "\n",
      "Increase the number of iterations (max_iter) or scale the data as shown in:\n",
      "    https://scikit-learn.org/stable/modules/preprocessing.html\n",
      "Please also refer to the documentation for alternative solver options:\n",
      "    https://scikit-learn.org/stable/modules/linear_model.html#logistic-regression\n",
      "  n_iter_i = _check_optimize_result(\n"
     ]
    }
   ],
   "source": [
    "modelLogReg = LogisticRegression()\n",
    "modelLogReg.fit(X_train, y_train)\n",
    "\n",
    "print(\"On training set:\\n%s\" % (classification_report(y_train, modelLogReg.predict(X_train))))\n",
    "\n",
    "y_pre = modelLogReg.predict(X_test)\n",
    "print(\"On test set:\\n%s\" % (classification_report(y_test, y_pre)))"
   ],
   "metadata": {
    "collapsed": false,
    "ExecuteTime": {
     "end_time": "2023-10-01T08:14:43.096084500Z",
     "start_time": "2023-10-01T08:14:42.766535700Z"
    }
   },
   "id": "5a55822da6c84bcf"
  },
  {
   "cell_type": "markdown",
   "source": [
    "### SVM"
   ],
   "metadata": {
    "collapsed": false
   },
   "id": "cc2601c6e6de421c"
  },
  {
   "cell_type": "code",
   "execution_count": 16,
   "outputs": [
    {
     "name": "stdout",
     "output_type": "stream",
     "text": [
      "On training set:\n",
      "              precision    recall  f1-score   support\n",
      "\n",
      "           0       0.86      0.98      0.92      2138\n",
      "           1       0.88      0.49      0.63       650\n",
      "\n",
      "    accuracy                           0.87      2788\n",
      "   macro avg       0.87      0.73      0.77      2788\n",
      "weighted avg       0.87      0.87      0.85      2788\n",
      "On test set:\n",
      "              precision    recall  f1-score   support\n",
      "\n",
      "           0       0.81      0.97      0.88       532\n",
      "           1       0.74      0.29      0.42       165\n",
      "\n",
      "    accuracy                           0.81       697\n",
      "   macro avg       0.78      0.63      0.65       697\n",
      "weighted avg       0.80      0.81      0.77       697\n"
     ]
    }
   ],
   "source": [
    "modelSVM = SVC()\n",
    "modelSVM.fit(X_train, y_train)\n",
    "\n",
    "print(\"On training set:\\n%s\" % (classification_report(y_train, modelSVM.predict(X_train))))\n",
    "\n",
    "y_pre = modelSVM.predict(X_test)\n",
    "print(\"On test set:\\n%s\" % (classification_report(y_test, y_pre)))"
   ],
   "metadata": {
    "collapsed": false,
    "ExecuteTime": {
     "end_time": "2023-10-01T08:14:56.469081900Z",
     "start_time": "2023-10-01T08:14:53.241000600Z"
    }
   },
   "id": "8bda7304f561c45"
  }
 ],
 "metadata": {
  "kernelspec": {
   "display_name": "Python 3",
   "language": "python",
   "name": "python3"
  },
  "language_info": {
   "codemirror_mode": {
    "name": "ipython",
    "version": 2
   },
   "file_extension": ".py",
   "mimetype": "text/x-python",
   "name": "python",
   "nbconvert_exporter": "python",
   "pygments_lexer": "ipython2",
   "version": "2.7.6"
  }
 },
 "nbformat": 4,
 "nbformat_minor": 5
}
